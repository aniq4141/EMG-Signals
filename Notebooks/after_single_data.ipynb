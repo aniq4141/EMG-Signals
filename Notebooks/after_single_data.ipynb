{
 "cells": [
  {
   "cell_type": "code",
   "execution_count": 1,
   "id": "122898d0",
   "metadata": {},
   "outputs": [],
   "source": [
    "import numpy as np\n",
    "import pandas as pd"
   ]
  },
  {
   "cell_type": "code",
   "execution_count": 2,
   "id": "7f5d90c2",
   "metadata": {},
   "outputs": [],
   "source": [
    "data = pd.read_csv(\"Single_data.csv\")"
   ]
  },
  {
   "cell_type": "code",
   "execution_count": 3,
   "id": "4161baa1",
   "metadata": {},
   "outputs": [
    {
     "data": {
      "text/html": [
       "<div>\n",
       "<style scoped>\n",
       "    .dataframe tbody tr th:only-of-type {\n",
       "        vertical-align: middle;\n",
       "    }\n",
       "\n",
       "    .dataframe tbody tr th {\n",
       "        vertical-align: top;\n",
       "    }\n",
       "\n",
       "    .dataframe thead th {\n",
       "        text-align: right;\n",
       "    }\n",
       "</style>\n",
       "<table border=\"1\" class=\"dataframe\">\n",
       "  <thead>\n",
       "    <tr style=\"text-align: right;\">\n",
       "      <th></th>\n",
       "      <th>AnalogValue</th>\n",
       "      <th>Density</th>\n",
       "      <th>Amplitude</th>\n",
       "      <th>Result</th>\n",
       "    </tr>\n",
       "  </thead>\n",
       "  <tbody>\n",
       "    <tr>\n",
       "      <th>0</th>\n",
       "      <td>587</td>\n",
       "      <td>579</td>\n",
       "      <td>0.72</td>\n",
       "      <td>0</td>\n",
       "    </tr>\n",
       "    <tr>\n",
       "      <th>1</th>\n",
       "      <td>589</td>\n",
       "      <td>592</td>\n",
       "      <td>0.72</td>\n",
       "      <td>0</td>\n",
       "    </tr>\n",
       "    <tr>\n",
       "      <th>2</th>\n",
       "      <td>605</td>\n",
       "      <td>603</td>\n",
       "      <td>0.74</td>\n",
       "      <td>0</td>\n",
       "    </tr>\n",
       "    <tr>\n",
       "      <th>3</th>\n",
       "      <td>624</td>\n",
       "      <td>627</td>\n",
       "      <td>0.76</td>\n",
       "      <td>0</td>\n",
       "    </tr>\n",
       "    <tr>\n",
       "      <th>4</th>\n",
       "      <td>622</td>\n",
       "      <td>622</td>\n",
       "      <td>0.76</td>\n",
       "      <td>0</td>\n",
       "    </tr>\n",
       "  </tbody>\n",
       "</table>\n",
       "</div>"
      ],
      "text/plain": [
       "   AnalogValue  Density  Amplitude  Result\n",
       "0          587      579       0.72       0\n",
       "1          589      592       0.72       0\n",
       "2          605      603       0.74       0\n",
       "3          624      627       0.76       0\n",
       "4          622      622       0.76       0"
      ]
     },
     "execution_count": 3,
     "metadata": {},
     "output_type": "execute_result"
    }
   ],
   "source": [
    "data.head()"
   ]
  },
  {
   "cell_type": "code",
   "execution_count": 29,
   "id": "5c193b61",
   "metadata": {},
   "outputs": [
    {
     "data": {
      "text/plain": [
       "0    0\n",
       "1    0\n",
       "2    0\n",
       "3    0\n",
       "4    0\n",
       "Name: Result, dtype: int64"
      ]
     },
     "execution_count": 29,
     "metadata": {},
     "output_type": "execute_result"
    }
   ],
   "source": [
    "X = data.iloc[:,:-1]\n",
    "y = data.iloc[:,-1]\n",
    "y.head()\n"
   ]
  },
  {
   "cell_type": "code",
   "execution_count": 33,
   "id": "c6e9d997",
   "metadata": {},
   "outputs": [
    {
     "data": {
      "text/plain": [
       "(400,)"
      ]
     },
     "execution_count": 33,
     "metadata": {},
     "output_type": "execute_result"
    }
   ],
   "source": [
    "y.shape"
   ]
  },
  {
   "cell_type": "code",
   "execution_count": 30,
   "id": "f94fa41a",
   "metadata": {},
   "outputs": [],
   "source": [
    "from sklearn.preprocessing import MinMaxScaler\n",
    "scaler = MinMaxScaler()\n",
    "X = scaler.fit_transform(X)"
   ]
  },
  {
   "cell_type": "code",
   "execution_count": 31,
   "id": "a032dab8",
   "metadata": {},
   "outputs": [
    {
     "data": {
      "text/plain": [
       "(400, 3)"
      ]
     },
     "execution_count": 31,
     "metadata": {},
     "output_type": "execute_result"
    }
   ],
   "source": [
    "X.shape"
   ]
  },
  {
   "cell_type": "code",
   "execution_count": 35,
   "id": "f76f2eb9",
   "metadata": {},
   "outputs": [],
   "source": [
    "from sklearn.preprocessing import OneHotEncoder\n",
    "\n",
    "# Create an instance of the OneHotEncoder\n",
    "encoder = OneHotEncoder()\n",
    "y = y.values\n",
    "# Fit and transform the target variable\n",
    "y = encoder.fit_transform(y.reshape(-1, 1)).toarray()\n"
   ]
  },
  {
   "cell_type": "code",
   "execution_count": 36,
   "id": "87c57767",
   "metadata": {},
   "outputs": [
    {
     "name": "stdout",
     "output_type": "stream",
     "text": [
      "the shape of X: (400, 3)\n",
      "the shape of y: (400, 4)\n"
     ]
    }
   ],
   "source": [
    "print(\"the shape of X:\", X.shape)\n",
    "print(\"the shape of y:\", y.shape)"
   ]
  },
  {
   "cell_type": "code",
   "execution_count": 37,
   "id": "1095317d",
   "metadata": {},
   "outputs": [],
   "source": [
    "from sklearn.model_selection import train_test_split\n",
    "X_train, X_test, y_train, y_test = train_test_split(X, y, test_size=0.2)"
   ]
  },
  {
   "cell_type": "code",
   "execution_count": 38,
   "id": "21db285d",
   "metadata": {},
   "outputs": [
    {
     "name": "stdout",
     "output_type": "stream",
     "text": [
      "(320, 3)\n",
      "(320, 4)\n"
     ]
    }
   ],
   "source": [
    "print(X_train.shape)\n",
    "print(y_train.shape)"
   ]
  },
  {
   "cell_type": "code",
   "execution_count": 42,
   "id": "c2ce1dab",
   "metadata": {},
   "outputs": [],
   "source": [
    "X_train = np.reshape(X_train, (X_train.shape[0], X_train.shape[1], 1))\n",
    "X_test = np.reshape(X_test, (X_test.shape[0], X_test.shape[1], 1))"
   ]
  },
  {
   "cell_type": "code",
   "execution_count": 44,
   "id": "fafef951",
   "metadata": {},
   "outputs": [
    {
     "name": "stdout",
     "output_type": "stream",
     "text": [
      "Model: \"sequential_3\"\n",
      "_________________________________________________________________\n",
      " Layer (type)                Output Shape              Param #   \n",
      "=================================================================\n",
      " conv1d_3 (Conv1D)           (None, 1, 32)             128       \n",
      "                                                                 \n",
      " lstm (LSTM)                 (None, 1, 64)             24832     \n",
      "                                                                 \n",
      " lstm_1 (LSTM)               (None, 64)                33024     \n",
      "                                                                 \n",
      " flatten (Flatten)           (None, 64)                0         \n",
      "                                                                 \n",
      " dense (Dense)               (None, 128)               8320      \n",
      "                                                                 \n",
      " dense_1 (Dense)             (None, 64)                8256      \n",
      "                                                                 \n",
      " dense_2 (Dense)             (None, 4)                 260       \n",
      "                                                                 \n",
      "=================================================================\n",
      "Total params: 74,820\n",
      "Trainable params: 74,820\n",
      "Non-trainable params: 0\n",
      "_________________________________________________________________\n"
     ]
    }
   ],
   "source": [
    "# Create the model\n",
    "from keras.models import Sequential\n",
    "from keras.layers import Conv1D, LSTM, Flatten, Dense\n",
    "\n",
    "# Create the model\n",
    "model = Sequential()\n",
    "model.add(Conv1D(filters=32, kernel_size=3, activation='relu', input_shape=(3,1)))\n",
    "model.add(LSTM(units=64, return_sequences=True))\n",
    "model.add(LSTM(units=64))\n",
    "model.add(Flatten())\n",
    "model.add(Dense(units=128, activation='relu'))\n",
    "model.add(Dense(units=64, activation='relu'))\n",
    "model.add(Dense(units=4, activation='softmax'))\n",
    "\n",
    "model.compile(loss='categorical_crossentropy', optimizer='adam', metrics=['accuracy'])\n",
    "model.summary()\n"
   ]
  },
  {
   "cell_type": "code",
   "execution_count": 84,
   "id": "718f76d7",
   "metadata": {},
   "outputs": [
    {
     "name": "stdout",
     "output_type": "stream",
     "text": [
      "Epoch 1/100\n",
      "10/10 [==============================] - 0s 6ms/step - loss: 0.3938 - accuracy: 0.7875\n",
      "Epoch 2/100\n",
      "10/10 [==============================] - 0s 6ms/step - loss: 0.3796 - accuracy: 0.8000\n",
      "Epoch 3/100\n",
      "10/10 [==============================] - 0s 5ms/step - loss: 0.3842 - accuracy: 0.7937\n",
      "Epoch 4/100\n",
      "10/10 [==============================] - 0s 5ms/step - loss: 0.3724 - accuracy: 0.8062\n",
      "Epoch 5/100\n",
      "10/10 [==============================] - 0s 5ms/step - loss: 0.3693 - accuracy: 0.8125\n",
      "Epoch 6/100\n",
      "10/10 [==============================] - 0s 5ms/step - loss: 0.3643 - accuracy: 0.8094\n",
      "Epoch 7/100\n",
      "10/10 [==============================] - 0s 6ms/step - loss: 0.3706 - accuracy: 0.8031\n",
      "Epoch 8/100\n",
      "10/10 [==============================] - 0s 5ms/step - loss: 0.3656 - accuracy: 0.8062\n",
      "Epoch 9/100\n",
      "10/10 [==============================] - 0s 7ms/step - loss: 0.3619 - accuracy: 0.8156\n",
      "Epoch 10/100\n",
      "10/10 [==============================] - 0s 7ms/step - loss: 0.3763 - accuracy: 0.8062\n",
      "Epoch 11/100\n",
      "10/10 [==============================] - 0s 6ms/step - loss: 0.3657 - accuracy: 0.8156\n",
      "Epoch 12/100\n",
      "10/10 [==============================] - 0s 6ms/step - loss: 0.3653 - accuracy: 0.8156\n",
      "Epoch 13/100\n",
      "10/10 [==============================] - 0s 7ms/step - loss: 0.3789 - accuracy: 0.8031\n",
      "Epoch 14/100\n",
      "10/10 [==============================] - 0s 8ms/step - loss: 0.3615 - accuracy: 0.8094\n",
      "Epoch 15/100\n",
      "10/10 [==============================] - 0s 8ms/step - loss: 0.3710 - accuracy: 0.8031\n",
      "Epoch 16/100\n",
      "10/10 [==============================] - 0s 6ms/step - loss: 0.3615 - accuracy: 0.8125\n",
      "Epoch 17/100\n",
      "10/10 [==============================] - 0s 6ms/step - loss: 0.3776 - accuracy: 0.8156\n",
      "Epoch 18/100\n",
      "10/10 [==============================] - 0s 7ms/step - loss: 0.3937 - accuracy: 0.7781\n",
      "Epoch 19/100\n",
      "10/10 [==============================] - 0s 7ms/step - loss: 0.3677 - accuracy: 0.8000\n",
      "Epoch 20/100\n",
      "10/10 [==============================] - 0s 7ms/step - loss: 0.3615 - accuracy: 0.8250\n",
      "Epoch 21/100\n",
      "10/10 [==============================] - 0s 7ms/step - loss: 0.3610 - accuracy: 0.8250\n",
      "Epoch 22/100\n",
      "10/10 [==============================] - 0s 7ms/step - loss: 0.3660 - accuracy: 0.8156\n",
      "Epoch 23/100\n",
      "10/10 [==============================] - 0s 7ms/step - loss: 0.3564 - accuracy: 0.8125\n",
      "Epoch 24/100\n",
      "10/10 [==============================] - 0s 6ms/step - loss: 0.3855 - accuracy: 0.7969\n",
      "Epoch 25/100\n",
      "10/10 [==============================] - 0s 5ms/step - loss: 0.3734 - accuracy: 0.8156\n",
      "Epoch 26/100\n",
      "10/10 [==============================] - 0s 5ms/step - loss: 0.3965 - accuracy: 0.8031\n",
      "Epoch 27/100\n",
      "10/10 [==============================] - 0s 5ms/step - loss: 0.3938 - accuracy: 0.7906\n",
      "Epoch 28/100\n",
      "10/10 [==============================] - 0s 5ms/step - loss: 0.3602 - accuracy: 0.8062\n",
      "Epoch 29/100\n",
      "10/10 [==============================] - 0s 5ms/step - loss: 0.3694 - accuracy: 0.8031\n",
      "Epoch 30/100\n",
      "10/10 [==============================] - 0s 6ms/step - loss: 0.3803 - accuracy: 0.8031\n",
      "Epoch 31/100\n",
      "10/10 [==============================] - 0s 5ms/step - loss: 0.3770 - accuracy: 0.8031\n",
      "Epoch 32/100\n",
      "10/10 [==============================] - 0s 6ms/step - loss: 0.3636 - accuracy: 0.8125\n",
      "Epoch 33/100\n",
      "10/10 [==============================] - 0s 6ms/step - loss: 0.3642 - accuracy: 0.8062\n",
      "Epoch 34/100\n",
      "10/10 [==============================] - 0s 6ms/step - loss: 0.3545 - accuracy: 0.8250\n",
      "Epoch 35/100\n",
      "10/10 [==============================] - 0s 6ms/step - loss: 0.3607 - accuracy: 0.8094\n",
      "Epoch 36/100\n",
      "10/10 [==============================] - 0s 6ms/step - loss: 0.3451 - accuracy: 0.8219\n",
      "Epoch 37/100\n",
      "10/10 [==============================] - 0s 7ms/step - loss: 0.3820 - accuracy: 0.8094\n",
      "Epoch 38/100\n",
      "10/10 [==============================] - 0s 6ms/step - loss: 0.3764 - accuracy: 0.8000\n",
      "Epoch 39/100\n",
      "10/10 [==============================] - 0s 5ms/step - loss: 0.3873 - accuracy: 0.7969\n",
      "Epoch 40/100\n",
      "10/10 [==============================] - 0s 6ms/step - loss: 0.4125 - accuracy: 0.7750\n",
      "Epoch 41/100\n",
      "10/10 [==============================] - 0s 6ms/step - loss: 0.3915 - accuracy: 0.7875\n",
      "Epoch 42/100\n",
      "10/10 [==============================] - 0s 7ms/step - loss: 0.3767 - accuracy: 0.8094\n",
      "Epoch 43/100\n",
      "10/10 [==============================] - 0s 7ms/step - loss: 0.3641 - accuracy: 0.8219\n",
      "Epoch 44/100\n",
      "10/10 [==============================] - 0s 7ms/step - loss: 0.3676 - accuracy: 0.7937\n",
      "Epoch 45/100\n",
      "10/10 [==============================] - 0s 7ms/step - loss: 0.3552 - accuracy: 0.8125\n",
      "Epoch 46/100\n",
      "10/10 [==============================] - 0s 7ms/step - loss: 0.3557 - accuracy: 0.8094\n",
      "Epoch 47/100\n",
      "10/10 [==============================] - 0s 7ms/step - loss: 0.3573 - accuracy: 0.8156\n",
      "Epoch 48/100\n",
      "10/10 [==============================] - 0s 7ms/step - loss: 0.3564 - accuracy: 0.8062\n",
      "Epoch 49/100\n",
      "10/10 [==============================] - 0s 6ms/step - loss: 0.3546 - accuracy: 0.8219\n",
      "Epoch 50/100\n",
      "10/10 [==============================] - 0s 7ms/step - loss: 0.3640 - accuracy: 0.8000\n",
      "Epoch 51/100\n",
      "10/10 [==============================] - 0s 6ms/step - loss: 0.3732 - accuracy: 0.8031\n",
      "Epoch 52/100\n",
      "10/10 [==============================] - 0s 6ms/step - loss: 0.3656 - accuracy: 0.8125\n",
      "Epoch 53/100\n",
      "10/10 [==============================] - 0s 6ms/step - loss: 0.3479 - accuracy: 0.8188\n",
      "Epoch 54/100\n",
      "10/10 [==============================] - 0s 5ms/step - loss: 0.3496 - accuracy: 0.8156\n",
      "Epoch 55/100\n",
      "10/10 [==============================] - 0s 5ms/step - loss: 0.3581 - accuracy: 0.8125\n",
      "Epoch 56/100\n",
      "10/10 [==============================] - 0s 5ms/step - loss: 0.3599 - accuracy: 0.8156\n",
      "Epoch 57/100\n",
      "10/10 [==============================] - 0s 5ms/step - loss: 0.3739 - accuracy: 0.8031\n",
      "Epoch 58/100\n",
      "10/10 [==============================] - 0s 5ms/step - loss: 0.3639 - accuracy: 0.8000\n",
      "Epoch 59/100\n",
      "10/10 [==============================] - 0s 5ms/step - loss: 0.3546 - accuracy: 0.8062\n",
      "Epoch 60/100\n",
      "10/10 [==============================] - 0s 5ms/step - loss: 0.3533 - accuracy: 0.8219\n",
      "Epoch 61/100\n",
      "10/10 [==============================] - 0s 5ms/step - loss: 0.3497 - accuracy: 0.8156\n",
      "Epoch 62/100\n",
      "10/10 [==============================] - 0s 5ms/step - loss: 0.3500 - accuracy: 0.8000\n",
      "Epoch 63/100\n",
      "10/10 [==============================] - 0s 5ms/step - loss: 0.3591 - accuracy: 0.8125\n",
      "Epoch 64/100\n",
      "10/10 [==============================] - 0s 5ms/step - loss: 0.3524 - accuracy: 0.8094\n",
      "Epoch 65/100\n",
      "10/10 [==============================] - 0s 5ms/step - loss: 0.3489 - accuracy: 0.8188\n",
      "Epoch 66/100\n",
      "10/10 [==============================] - 0s 5ms/step - loss: 0.3710 - accuracy: 0.7875\n",
      "Epoch 67/100\n",
      "10/10 [==============================] - 0s 5ms/step - loss: 0.3717 - accuracy: 0.7875\n",
      "Epoch 68/100\n",
      "10/10 [==============================] - 0s 5ms/step - loss: 0.3754 - accuracy: 0.8000\n",
      "Epoch 69/100\n",
      "10/10 [==============================] - 0s 6ms/step - loss: 0.3767 - accuracy: 0.8094\n",
      "Epoch 70/100\n",
      "10/10 [==============================] - 0s 7ms/step - loss: 0.3807 - accuracy: 0.8125\n",
      "Epoch 71/100\n",
      "10/10 [==============================] - 0s 8ms/step - loss: 0.3572 - accuracy: 0.8250\n",
      "Epoch 72/100\n",
      "10/10 [==============================] - 0s 5ms/step - loss: 0.3619 - accuracy: 0.8031\n",
      "Epoch 73/100\n",
      "10/10 [==============================] - 0s 5ms/step - loss: 0.3690 - accuracy: 0.8031\n",
      "Epoch 74/100\n",
      "10/10 [==============================] - 0s 5ms/step - loss: 0.3662 - accuracy: 0.8125\n",
      "Epoch 75/100\n",
      "10/10 [==============================] - 0s 5ms/step - loss: 0.3539 - accuracy: 0.8156\n",
      "Epoch 76/100\n",
      "10/10 [==============================] - 0s 5ms/step - loss: 0.3464 - accuracy: 0.8156\n",
      "Epoch 77/100\n",
      "10/10 [==============================] - 0s 5ms/step - loss: 0.3579 - accuracy: 0.8031\n",
      "Epoch 78/100\n",
      "10/10 [==============================] - 0s 6ms/step - loss: 0.3504 - accuracy: 0.8125\n",
      "Epoch 79/100\n",
      "10/10 [==============================] - 0s 7ms/step - loss: 0.3782 - accuracy: 0.8062\n",
      "Epoch 80/100\n",
      "10/10 [==============================] - 0s 7ms/step - loss: 0.3666 - accuracy: 0.8094\n",
      "Epoch 81/100\n",
      "10/10 [==============================] - 0s 7ms/step - loss: 0.3614 - accuracy: 0.7906\n",
      "Epoch 82/100\n",
      "10/10 [==============================] - 0s 6ms/step - loss: 0.3651 - accuracy: 0.7937\n",
      "Epoch 83/100\n"
     ]
    },
    {
     "name": "stdout",
     "output_type": "stream",
     "text": [
      "10/10 [==============================] - 0s 7ms/step - loss: 0.3835 - accuracy: 0.7844\n",
      "Epoch 84/100\n",
      "10/10 [==============================] - 0s 6ms/step - loss: 0.3855 - accuracy: 0.8094\n",
      "Epoch 85/100\n",
      "10/10 [==============================] - 0s 5ms/step - loss: 0.3461 - accuracy: 0.8250\n",
      "Epoch 86/100\n",
      "10/10 [==============================] - 0s 5ms/step - loss: 0.3590 - accuracy: 0.8031\n",
      "Epoch 87/100\n",
      "10/10 [==============================] - 0s 5ms/step - loss: 0.3524 - accuracy: 0.8188\n",
      "Epoch 88/100\n",
      "10/10 [==============================] - 0s 6ms/step - loss: 0.3565 - accuracy: 0.8156\n",
      "Epoch 89/100\n",
      "10/10 [==============================] - 0s 6ms/step - loss: 0.3672 - accuracy: 0.8000\n",
      "Epoch 90/100\n",
      "10/10 [==============================] - 0s 6ms/step - loss: 0.3576 - accuracy: 0.8062\n",
      "Epoch 91/100\n",
      "10/10 [==============================] - 0s 6ms/step - loss: 0.3568 - accuracy: 0.8000\n",
      "Epoch 92/100\n",
      "10/10 [==============================] - 0s 5ms/step - loss: 0.3628 - accuracy: 0.8031\n",
      "Epoch 93/100\n",
      "10/10 [==============================] - 0s 5ms/step - loss: 0.3537 - accuracy: 0.8156\n",
      "Epoch 94/100\n",
      "10/10 [==============================] - 0s 5ms/step - loss: 0.4084 - accuracy: 0.7844\n",
      "Epoch 95/100\n",
      "10/10 [==============================] - 0s 5ms/step - loss: 0.3828 - accuracy: 0.7969\n",
      "Epoch 96/100\n",
      "10/10 [==============================] - 0s 5ms/step - loss: 0.3765 - accuracy: 0.8062\n",
      "Epoch 97/100\n",
      "10/10 [==============================] - 0s 5ms/step - loss: 0.3608 - accuracy: 0.8156\n",
      "Epoch 98/100\n",
      "10/10 [==============================] - 0s 6ms/step - loss: 0.3479 - accuracy: 0.8188\n",
      "Epoch 99/100\n",
      "10/10 [==============================] - 0s 6ms/step - loss: 0.3486 - accuracy: 0.8219\n",
      "Epoch 100/100\n",
      "10/10 [==============================] - 0s 6ms/step - loss: 0.3565 - accuracy: 0.7937\n"
     ]
    },
    {
     "data": {
      "text/plain": [
       "<keras.callbacks.History at 0x29245253370>"
      ]
     },
     "execution_count": 84,
     "metadata": {},
     "output_type": "execute_result"
    }
   ],
   "source": [
    "model.fit(X_train, y_train, epochs =100 )"
   ]
  },
  {
   "cell_type": "code",
   "execution_count": 52,
   "id": "1b8f018c",
   "metadata": {},
   "outputs": [
    {
     "name": "stdout",
     "output_type": "stream",
     "text": [
      "3/3 [==============================] - 0s 4ms/step\n",
      "[0 1 2 0 0 0 1 0 2 0 3 2 2 0 2 1 3 3 0 2 0 3 3 3 0 2 0 3 0 0 3 2 0 3 3 0 0\n",
      " 1 1 2 1 3 0 2 0 3 0 2 0 0 2 0 0 2 3 1 3 3 2 2 1 0 0 0 1 1 1 3 3 2 0 1 1 1\n",
      " 0 1 0 0 1 0]\n"
     ]
    }
   ],
   "source": [
    "y_pred = model.predict(X_test)\n",
    "\n",
    "# If you have performed one-hot encoding on your y data, you can convert the predictions back to class labels\n",
    "predicted_labels = np.argmax(y_pred, axis=1)\n",
    "\n",
    "# Print the predicted labels\n",
    "print(predicted_labels)"
   ]
  },
  {
   "cell_type": "code",
   "execution_count": 53,
   "id": "fc23fc6d",
   "metadata": {},
   "outputs": [
    {
     "data": {
      "image/png": "[encoded data removed]",
      "text/plain": [
       "<Figure size 640x480 with 1 Axes>"
      ]
     },
     "metadata": {},
     "output_type": "display_data"
    }
   ],
   "source": [
    "import numpy as np\n",
    "import matplotlib.pyplot as plt\n",
    "\n",
    "# Assuming you have the predicted labels (in one-hot encoded format) and y_test (in one-hot encoded format)\n",
    "\n",
    "# Convert one-hot encoded labels to categorical labels\n",
    "# predicted_labels = np.argmax(predicted_labels, axis=1)\n",
    "actual_labels = np.argmax(y_test, axis=1)\n",
    "\n",
    "# Create a line plot to compare predicted labels and actual labels\n",
    "plt.plot(predicted_labels, label='Predicted Labels')\n",
    "plt.plot(actual_labels, label='Actual Labels')\n",
    "plt.xlabel('Sample Index')\n",
    "plt.ylabel('Label')\n",
    "plt.title('Comparison between Predicted Labels and Actual Labels')\n",
    "plt.legend()\n",
    "plt.show()\n"
   ]
  },
  {
   "cell_type": "code",
   "execution_count": 71,
   "id": "0a6849ad",
   "metadata": {},
   "outputs": [],
   "source": [
    "test_data = pd.read_csv(\"upper1.csv\")"
   ]
  },
  {
   "cell_type": "code",
   "execution_count": 72,
   "id": "f0f45bd4",
   "metadata": {},
   "outputs": [],
   "source": [
    "test_data = test_data.iloc[:,:-1]\n",
    "test_data = test_data.drop(\"Unnamed: 0\", axis = 1)"
   ]
  },
  {
   "cell_type": "code",
   "execution_count": 73,
   "id": "baf6b10e",
   "metadata": {},
   "outputs": [
    {
     "data": {
      "text/html": [
       "<div>\n",
       "<style scoped>\n",
       "    .dataframe tbody tr th:only-of-type {\n",
       "        vertical-align: middle;\n",
       "    }\n",
       "\n",
       "    .dataframe tbody tr th {\n",
       "        vertical-align: top;\n",
       "    }\n",
       "\n",
       "    .dataframe thead th {\n",
       "        text-align: right;\n",
       "    }\n",
       "</style>\n",
       "<table border=\"1\" class=\"dataframe\">\n",
       "  <thead>\n",
       "    <tr style=\"text-align: right;\">\n",
       "      <th></th>\n",
       "      <th>AnalogValue</th>\n",
       "      <th>Density</th>\n",
       "      <th>Amplitude</th>\n",
       "    </tr>\n",
       "  </thead>\n",
       "  <tbody>\n",
       "    <tr>\n",
       "      <th>0</th>\n",
       "      <td>501</td>\n",
       "      <td>506</td>\n",
       "      <td>0.61</td>\n",
       "    </tr>\n",
       "    <tr>\n",
       "      <th>1</th>\n",
       "      <td>506</td>\n",
       "      <td>506</td>\n",
       "      <td>0.62</td>\n",
       "    </tr>\n",
       "    <tr>\n",
       "      <th>2</th>\n",
       "      <td>502</td>\n",
       "      <td>497</td>\n",
       "      <td>0.61</td>\n",
       "    </tr>\n",
       "    <tr>\n",
       "      <th>3</th>\n",
       "      <td>497</td>\n",
       "      <td>498</td>\n",
       "      <td>0.61</td>\n",
       "    </tr>\n",
       "    <tr>\n",
       "      <th>4</th>\n",
       "      <td>484</td>\n",
       "      <td>483</td>\n",
       "      <td>0.59</td>\n",
       "    </tr>\n",
       "  </tbody>\n",
       "</table>\n",
       "</div>"
      ],
      "text/plain": [
       "   AnalogValue  Density  Amplitude\n",
       "0          501      506       0.61\n",
       "1          506      506       0.62\n",
       "2          502      497       0.61\n",
       "3          497      498       0.61\n",
       "4          484      483       0.59"
      ]
     },
     "execution_count": 73,
     "metadata": {},
     "output_type": "execute_result"
    }
   ],
   "source": [
    "test_data.head()"
   ]
  },
  {
   "cell_type": "code",
   "execution_count": 74,
   "id": "3d3dc3ec",
   "metadata": {},
   "outputs": [
    {
     "data": {
      "text/html": [
       "<div>\n",
       "<style scoped>\n",
       "    .dataframe tbody tr th:only-of-type {\n",
       "        vertical-align: middle;\n",
       "    }\n",
       "\n",
       "    .dataframe tbody tr th {\n",
       "        vertical-align: top;\n",
       "    }\n",
       "\n",
       "    .dataframe thead th {\n",
       "        text-align: right;\n",
       "    }\n",
       "</style>\n",
       "<table border=\"1\" class=\"dataframe\">\n",
       "  <thead>\n",
       "    <tr style=\"text-align: right;\">\n",
       "      <th></th>\n",
       "      <th>AnalogValue</th>\n",
       "      <th>Density</th>\n",
       "      <th>Amplitude</th>\n",
       "    </tr>\n",
       "  </thead>\n",
       "  <tbody>\n",
       "    <tr>\n",
       "      <th>0</th>\n",
       "      <td>501</td>\n",
       "      <td>506</td>\n",
       "      <td>0.61</td>\n",
       "    </tr>\n",
       "  </tbody>\n",
       "</table>\n",
       "</div>"
      ],
      "text/plain": [
       "   AnalogValue  Density  Amplitude\n",
       "0          501      506       0.61"
      ]
     },
     "execution_count": 74,
     "metadata": {},
     "output_type": "execute_result"
    }
   ],
   "source": [
    "test_data = test_data.iloc[:1,:]\n",
    "test_data.head()"
   ]
  },
  {
   "cell_type": "code",
   "execution_count": 77,
   "id": "362aaf58",
   "metadata": {},
   "outputs": [],
   "source": [
    "from sklearn.preprocessing import MinMaxScaler\n",
    "scaler = MinMaxScaler()\n",
    "test_data = scaler.fit_transform(test_data)"
   ]
  },
  {
   "cell_type": "code",
   "execution_count": 81,
   "id": "36c6fdd8",
   "metadata": {},
   "outputs": [
    {
     "data": {
      "text/plain": [
       "(1, 3, 1)"
      ]
     },
     "execution_count": 81,
     "metadata": {},
     "output_type": "execute_result"
    }
   ],
   "source": [
    "# test_data = test_data.reshape(test_data, ())\n",
    "test_data = np.reshape(test_data, (test_data.shape[0], test_data.shape[1], 1))\n",
    "test_data.shape"
   ]
  },
  {
   "cell_type": "code",
   "execution_count": 83,
   "id": "0763f748",
   "metadata": {},
   "outputs": [
    {
     "name": "stdout",
     "output_type": "stream",
     "text": [
      "1/1 [==============================] - 0s 27ms/step\n",
      "[2]\n"
     ]
    }
   ],
   "source": [
    "pred = model.predict(test_data)\n",
    "predicted_labels = np.argmax(pred, axis=1)\n",
    "\n",
    "# Print the predicted labels\n",
    "print(predicted_labels)\n"
   ]
  },
  {
   "cell_type": "code",
   "execution_count": null,
   "id": "bdfe5372",
   "metadata": {},
   "outputs": [],
   "source": []
  }
 ],
 "metadata": {
  "kernelspec": {
   "display_name": "Python 3 (ipykernel)",
   "language": "python",
   "name": "python3"
  },
  "language_info": {
   "codemirror_mode": {
    "name": "ipython",
    "version": 3
   },
   "file_extension": ".py",
   "mimetype": "text/x-python",
   "name": "python",
   "nbconvert_exporter": "python",
   "pygments_lexer": "ipython3",
   "version": "3.10.11"
  }
 },
 "nbformat": 4,
 "nbformat_minor": 5
}
