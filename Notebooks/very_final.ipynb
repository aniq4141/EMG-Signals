{
 "cells": [
  {
   "cell_type": "code",
   "execution_count": 1,
   "id": "ca03a5ab",
   "metadata": {},
   "outputs": [],
   "source": [
    "import pandas as pd"
   ]
  },
  {
   "cell_type": "code",
   "execution_count": 2,
   "id": "e4ef1658",
   "metadata": {},
   "outputs": [],
   "source": [
    "import numpy as np"
   ]
  },
  {
   "cell_type": "code",
   "execution_count": 3,
   "id": "06e13138",
   "metadata": {},
   "outputs": [],
   "source": [
    "df0 = pd.read_csv(\"new_upper_down.csv\")\n",
    "df1 = pd.read_csv(\"new_right_left.csv\")\n"
   ]
  },
  {
   "cell_type": "code",
   "execution_count": 4,
   "id": "7cd302a1",
   "metadata": {},
   "outputs": [
    {
     "data": {
      "text/html": [
       "<div>\n",
       "<style scoped>\n",
       "    .dataframe tbody tr th:only-of-type {\n",
       "        vertical-align: middle;\n",
       "    }\n",
       "\n",
       "    .dataframe tbody tr th {\n",
       "        vertical-align: top;\n",
       "    }\n",
       "\n",
       "    .dataframe thead th {\n",
       "        text-align: right;\n",
       "    }\n",
       "</style>\n",
       "<table border=\"1\" class=\"dataframe\">\n",
       "  <thead>\n",
       "    <tr style=\"text-align: right;\">\n",
       "      <th></th>\n",
       "      <th>AnalogValue</th>\n",
       "      <th>Density</th>\n",
       "      <th>Amplitude</th>\n",
       "      <th>Result</th>\n",
       "    </tr>\n",
       "  </thead>\n",
       "  <tbody>\n",
       "    <tr>\n",
       "      <th>0</th>\n",
       "      <td>881</td>\n",
       "      <td>887</td>\n",
       "      <td>1.08</td>\n",
       "      <td>0</td>\n",
       "    </tr>\n",
       "    <tr>\n",
       "      <th>1</th>\n",
       "      <td>909</td>\n",
       "      <td>903</td>\n",
       "      <td>1.11</td>\n",
       "      <td>0</td>\n",
       "    </tr>\n",
       "    <tr>\n",
       "      <th>2</th>\n",
       "      <td>889</td>\n",
       "      <td>890</td>\n",
       "      <td>1.09</td>\n",
       "      <td>0</td>\n",
       "    </tr>\n",
       "    <tr>\n",
       "      <th>3</th>\n",
       "      <td>898</td>\n",
       "      <td>903</td>\n",
       "      <td>1.10</td>\n",
       "      <td>0</td>\n",
       "    </tr>\n",
       "    <tr>\n",
       "      <th>4</th>\n",
       "      <td>901</td>\n",
       "      <td>898</td>\n",
       "      <td>1.10</td>\n",
       "      <td>0</td>\n",
       "    </tr>\n",
       "  </tbody>\n",
       "</table>\n",
       "</div>"
      ],
      "text/plain": [
       "   AnalogValue  Density  Amplitude  Result\n",
       "0          881      887       1.08       0\n",
       "1          909      903       1.11       0\n",
       "2          889      890       1.09       0\n",
       "3          898      903       1.10       0\n",
       "4          901      898       1.10       0"
      ]
     },
     "execution_count": 4,
     "metadata": {},
     "output_type": "execute_result"
    }
   ],
   "source": [
    "df0.head()"
   ]
  },
  {
   "cell_type": "code",
   "execution_count": 5,
   "id": "effe2f11",
   "metadata": {},
   "outputs": [
    {
     "data": {
      "text/html": [
       "<div>\n",
       "<style scoped>\n",
       "    .dataframe tbody tr th:only-of-type {\n",
       "        vertical-align: middle;\n",
       "    }\n",
       "\n",
       "    .dataframe tbody tr th {\n",
       "        vertical-align: top;\n",
       "    }\n",
       "\n",
       "    .dataframe thead th {\n",
       "        text-align: right;\n",
       "    }\n",
       "</style>\n",
       "<table border=\"1\" class=\"dataframe\">\n",
       "  <thead>\n",
       "    <tr style=\"text-align: right;\">\n",
       "      <th></th>\n",
       "      <th>AnalogValue</th>\n",
       "      <th>Density</th>\n",
       "      <th>Amplitude</th>\n",
       "      <th>Result</th>\n",
       "    </tr>\n",
       "  </thead>\n",
       "  <tbody>\n",
       "    <tr>\n",
       "      <th>0</th>\n",
       "      <td>1195</td>\n",
       "      <td>1194</td>\n",
       "      <td>1.46</td>\n",
       "      <td>0</td>\n",
       "    </tr>\n",
       "    <tr>\n",
       "      <th>1</th>\n",
       "      <td>1197</td>\n",
       "      <td>1198</td>\n",
       "      <td>1.46</td>\n",
       "      <td>0</td>\n",
       "    </tr>\n",
       "    <tr>\n",
       "      <th>2</th>\n",
       "      <td>1200</td>\n",
       "      <td>1211</td>\n",
       "      <td>1.47</td>\n",
       "      <td>0</td>\n",
       "    </tr>\n",
       "    <tr>\n",
       "      <th>3</th>\n",
       "      <td>1264</td>\n",
       "      <td>1265</td>\n",
       "      <td>1.54</td>\n",
       "      <td>0</td>\n",
       "    </tr>\n",
       "    <tr>\n",
       "      <th>4</th>\n",
       "      <td>1264</td>\n",
       "      <td>1264</td>\n",
       "      <td>1.54</td>\n",
       "      <td>0</td>\n",
       "    </tr>\n",
       "  </tbody>\n",
       "</table>\n",
       "</div>"
      ],
      "text/plain": [
       "   AnalogValue  Density  Amplitude  Result\n",
       "0         1195     1194       1.46       0\n",
       "1         1197     1198       1.46       0\n",
       "2         1200     1211       1.47       0\n",
       "3         1264     1265       1.54       0\n",
       "4         1264     1264       1.54       0"
      ]
     },
     "execution_count": 5,
     "metadata": {},
     "output_type": "execute_result"
    }
   ],
   "source": [
    "df1.head()"
   ]
  },
  {
   "cell_type": "code",
   "execution_count": 7,
   "id": "ef65db36",
   "metadata": {},
   "outputs": [],
   "source": [
    "df1['Result'] = df1['Result'].replace({0: 2, 1: 3})\n"
   ]
  },
  {
   "cell_type": "code",
   "execution_count": 8,
   "id": "046e6083",
   "metadata": {},
   "outputs": [
    {
     "data": {
      "text/html": [
       "<div>\n",
       "<style scoped>\n",
       "    .dataframe tbody tr th:only-of-type {\n",
       "        vertical-align: middle;\n",
       "    }\n",
       "\n",
       "    .dataframe tbody tr th {\n",
       "        vertical-align: top;\n",
       "    }\n",
       "\n",
       "    .dataframe thead th {\n",
       "        text-align: right;\n",
       "    }\n",
       "</style>\n",
       "<table border=\"1\" class=\"dataframe\">\n",
       "  <thead>\n",
       "    <tr style=\"text-align: right;\">\n",
       "      <th></th>\n",
       "      <th>AnalogValue</th>\n",
       "      <th>Density</th>\n",
       "      <th>Amplitude</th>\n",
       "      <th>Result</th>\n",
       "    </tr>\n",
       "  </thead>\n",
       "  <tbody>\n",
       "    <tr>\n",
       "      <th>0</th>\n",
       "      <td>1195</td>\n",
       "      <td>1194</td>\n",
       "      <td>1.46</td>\n",
       "      <td>2</td>\n",
       "    </tr>\n",
       "    <tr>\n",
       "      <th>1</th>\n",
       "      <td>1197</td>\n",
       "      <td>1198</td>\n",
       "      <td>1.46</td>\n",
       "      <td>2</td>\n",
       "    </tr>\n",
       "    <tr>\n",
       "      <th>2</th>\n",
       "      <td>1200</td>\n",
       "      <td>1211</td>\n",
       "      <td>1.47</td>\n",
       "      <td>2</td>\n",
       "    </tr>\n",
       "    <tr>\n",
       "      <th>3</th>\n",
       "      <td>1264</td>\n",
       "      <td>1265</td>\n",
       "      <td>1.54</td>\n",
       "      <td>2</td>\n",
       "    </tr>\n",
       "    <tr>\n",
       "      <th>4</th>\n",
       "      <td>1264</td>\n",
       "      <td>1264</td>\n",
       "      <td>1.54</td>\n",
       "      <td>2</td>\n",
       "    </tr>\n",
       "  </tbody>\n",
       "</table>\n",
       "</div>"
      ],
      "text/plain": [
       "   AnalogValue  Density  Amplitude  Result\n",
       "0         1195     1194       1.46       2\n",
       "1         1197     1198       1.46       2\n",
       "2         1200     1211       1.47       2\n",
       "3         1264     1265       1.54       2\n",
       "4         1264     1264       1.54       2"
      ]
     },
     "execution_count": 8,
     "metadata": {},
     "output_type": "execute_result"
    }
   ],
   "source": [
    "df1.head()"
   ]
  },
  {
   "cell_type": "code",
   "execution_count": 9,
   "id": "97f76ed1",
   "metadata": {},
   "outputs": [
    {
     "data": {
      "text/html": [
       "<div>\n",
       "<style scoped>\n",
       "    .dataframe tbody tr th:only-of-type {\n",
       "        vertical-align: middle;\n",
       "    }\n",
       "\n",
       "    .dataframe tbody tr th {\n",
       "        vertical-align: top;\n",
       "    }\n",
       "\n",
       "    .dataframe thead th {\n",
       "        text-align: right;\n",
       "    }\n",
       "</style>\n",
       "<table border=\"1\" class=\"dataframe\">\n",
       "  <thead>\n",
       "    <tr style=\"text-align: right;\">\n",
       "      <th></th>\n",
       "      <th>AnalogValue</th>\n",
       "      <th>Density</th>\n",
       "      <th>Amplitude</th>\n",
       "      <th>Result</th>\n",
       "    </tr>\n",
       "  </thead>\n",
       "  <tbody>\n",
       "    <tr>\n",
       "      <th>3995</th>\n",
       "      <td>990</td>\n",
       "      <td>987</td>\n",
       "      <td>1.21</td>\n",
       "      <td>3</td>\n",
       "    </tr>\n",
       "    <tr>\n",
       "      <th>3996</th>\n",
       "      <td>970</td>\n",
       "      <td>975</td>\n",
       "      <td>1.18</td>\n",
       "      <td>3</td>\n",
       "    </tr>\n",
       "    <tr>\n",
       "      <th>3997</th>\n",
       "      <td>966</td>\n",
       "      <td>965</td>\n",
       "      <td>1.18</td>\n",
       "      <td>3</td>\n",
       "    </tr>\n",
       "    <tr>\n",
       "      <th>3998</th>\n",
       "      <td>961</td>\n",
       "      <td>964</td>\n",
       "      <td>1.17</td>\n",
       "      <td>3</td>\n",
       "    </tr>\n",
       "    <tr>\n",
       "      <th>3999</th>\n",
       "      <td>976</td>\n",
       "      <td>981</td>\n",
       "      <td>1.19</td>\n",
       "      <td>3</td>\n",
       "    </tr>\n",
       "  </tbody>\n",
       "</table>\n",
       "</div>"
      ],
      "text/plain": [
       "      AnalogValue  Density  Amplitude  Result\n",
       "3995          990      987       1.21       3\n",
       "3996          970      975       1.18       3\n",
       "3997          966      965       1.18       3\n",
       "3998          961      964       1.17       3\n",
       "3999          976      981       1.19       3"
      ]
     },
     "execution_count": 9,
     "metadata": {},
     "output_type": "execute_result"
    }
   ],
   "source": [
    "data = pd.concat([df0, df1])\n",
    "data.tail()"
   ]
  },
  {
   "cell_type": "code",
   "execution_count": 51,
   "id": "95c48280",
   "metadata": {},
   "outputs": [
    {
     "data": {
      "text/html": [
       "<div>\n",
       "<style scoped>\n",
       "    .dataframe tbody tr th:only-of-type {\n",
       "        vertical-align: middle;\n",
       "    }\n",
       "\n",
       "    .dataframe tbody tr th {\n",
       "        vertical-align: top;\n",
       "    }\n",
       "\n",
       "    .dataframe thead th {\n",
       "        text-align: right;\n",
       "    }\n",
       "</style>\n",
       "<table border=\"1\" class=\"dataframe\">\n",
       "  <thead>\n",
       "    <tr style=\"text-align: right;\">\n",
       "      <th></th>\n",
       "      <th>AnalogValue</th>\n",
       "      <th>Density</th>\n",
       "      <th>Amplitude</th>\n",
       "      <th>Result</th>\n",
       "    </tr>\n",
       "  </thead>\n",
       "  <tbody>\n",
       "    <tr>\n",
       "      <th>0</th>\n",
       "      <td>881</td>\n",
       "      <td>887</td>\n",
       "      <td>1.08</td>\n",
       "      <td>0</td>\n",
       "    </tr>\n",
       "    <tr>\n",
       "      <th>1</th>\n",
       "      <td>909</td>\n",
       "      <td>903</td>\n",
       "      <td>1.11</td>\n",
       "      <td>0</td>\n",
       "    </tr>\n",
       "    <tr>\n",
       "      <th>2</th>\n",
       "      <td>889</td>\n",
       "      <td>890</td>\n",
       "      <td>1.09</td>\n",
       "      <td>0</td>\n",
       "    </tr>\n",
       "    <tr>\n",
       "      <th>3</th>\n",
       "      <td>898</td>\n",
       "      <td>903</td>\n",
       "      <td>1.10</td>\n",
       "      <td>0</td>\n",
       "    </tr>\n",
       "    <tr>\n",
       "      <th>4</th>\n",
       "      <td>901</td>\n",
       "      <td>898</td>\n",
       "      <td>1.10</td>\n",
       "      <td>0</td>\n",
       "    </tr>\n",
       "  </tbody>\n",
       "</table>\n",
       "</div>"
      ],
      "text/plain": [
       "   AnalogValue  Density  Amplitude  Result\n",
       "0          881      887       1.08       0\n",
       "1          909      903       1.11       0\n",
       "2          889      890       1.09       0\n",
       "3          898      903       1.10       0\n",
       "4          901      898       1.10       0"
      ]
     },
     "execution_count": 51,
     "metadata": {},
     "output_type": "execute_result"
    }
   ],
   "source": [
    "data.head()"
   ]
  },
  {
   "cell_type": "code",
   "execution_count": 52,
   "id": "6c47f6d0",
   "metadata": {},
   "outputs": [],
   "source": [
    "# Separate features and target\n",
    "features = data[[\"AnalogValue\", \"Density\", \"Amplitude\"]]\n",
    "target = data[\"Result\"]\n"
   ]
  },
  {
   "cell_type": "code",
   "execution_count": 65,
   "id": "c78cd354",
   "metadata": {},
   "outputs": [
    {
     "data": {
      "text/html": [
       "<div>\n",
       "<style scoped>\n",
       "    .dataframe tbody tr th:only-of-type {\n",
       "        vertical-align: middle;\n",
       "    }\n",
       "\n",
       "    .dataframe tbody tr th {\n",
       "        vertical-align: top;\n",
       "    }\n",
       "\n",
       "    .dataframe thead th {\n",
       "        text-align: right;\n",
       "    }\n",
       "</style>\n",
       "<table border=\"1\" class=\"dataframe\">\n",
       "  <thead>\n",
       "    <tr style=\"text-align: right;\">\n",
       "      <th></th>\n",
       "      <th>AnalogValue</th>\n",
       "      <th>Density</th>\n",
       "      <th>Amplitude</th>\n",
       "    </tr>\n",
       "  </thead>\n",
       "  <tbody>\n",
       "    <tr>\n",
       "      <th>3995</th>\n",
       "      <td>990</td>\n",
       "      <td>987</td>\n",
       "      <td>1.21</td>\n",
       "    </tr>\n",
       "    <tr>\n",
       "      <th>3996</th>\n",
       "      <td>970</td>\n",
       "      <td>975</td>\n",
       "      <td>1.18</td>\n",
       "    </tr>\n",
       "    <tr>\n",
       "      <th>3997</th>\n",
       "      <td>966</td>\n",
       "      <td>965</td>\n",
       "      <td>1.18</td>\n",
       "    </tr>\n",
       "    <tr>\n",
       "      <th>3998</th>\n",
       "      <td>961</td>\n",
       "      <td>964</td>\n",
       "      <td>1.17</td>\n",
       "    </tr>\n",
       "    <tr>\n",
       "      <th>3999</th>\n",
       "      <td>976</td>\n",
       "      <td>981</td>\n",
       "      <td>1.19</td>\n",
       "    </tr>\n",
       "  </tbody>\n",
       "</table>\n",
       "</div>"
      ],
      "text/plain": [
       "      AnalogValue  Density  Amplitude\n",
       "3995          990      987       1.21\n",
       "3996          970      975       1.18\n",
       "3997          966      965       1.18\n",
       "3998          961      964       1.17\n",
       "3999          976      981       1.19"
      ]
     },
     "execution_count": 65,
     "metadata": {},
     "output_type": "execute_result"
    }
   ],
   "source": [
    "features.tail()"
   ]
  },
  {
   "cell_type": "code",
   "execution_count": 67,
   "id": "8f3f2526",
   "metadata": {},
   "outputs": [
    {
     "data": {
      "text/plain": [
       "0    0\n",
       "1    0\n",
       "2    0\n",
       "3    0\n",
       "4    0\n",
       "Name: Result, dtype: int64"
      ]
     },
     "execution_count": 67,
     "metadata": {},
     "output_type": "execute_result"
    }
   ],
   "source": [
    "target.head()"
   ]
  },
  {
   "cell_type": "code",
   "execution_count": 55,
   "id": "b9a9f43e",
   "metadata": {},
   "outputs": [],
   "source": [
    "# Perform one-hot encoding\n",
    "target_encoded = pd.get_dummies(target)\n"
   ]
  },
  {
   "cell_type": "code",
   "execution_count": 56,
   "id": "e0e4f957",
   "metadata": {},
   "outputs": [],
   "source": [
    "from sklearn.model_selection import train_test_split\n",
    "\n",
    "# Split the dataset into training and testing sets\n",
    "X_train, X_test, y_train, y_test = train_test_split(features, target, test_size=0.2, random_state=42)\n"
   ]
  },
  {
   "cell_type": "code",
   "execution_count": 57,
   "id": "46fd7ab9",
   "metadata": {},
   "outputs": [
    {
     "name": "stdout",
     "output_type": "stream",
     "text": [
      "Shape of the X_train: (6400, 3)\n",
      "Shape of the y_train: (6400,)\n",
      "Shape of the X_test: (1600, 3)\n",
      "Shape of the y_test: (1600,)\n"
     ]
    }
   ],
   "source": [
    "print(\"Shape of the X_train:\", X_train.shape)\n",
    "print(\"Shape of the y_train:\", y_train.shape)\n",
    "print(\"Shape of the X_test:\", X_test.shape)\n",
    "print(\"Shape of the y_test:\", y_test.shape)\n"
   ]
  },
  {
   "cell_type": "code",
   "execution_count": 58,
   "id": "2cf40b8a",
   "metadata": {},
   "outputs": [],
   "source": [
    "from sklearn.preprocessing import StandardScaler\n",
    "\n",
    "# Create a scaler object\n",
    "scaler = StandardScaler()\n",
    "\n",
    "# Fit the scaler on the training features and transform the features\n",
    "X_train = scaler.fit_transform(X_train)\n",
    "\n",
    "# Transform the testing features using the fitted scaler\n",
    "X_test = scaler.transform(X_test)\n"
   ]
  },
  {
   "cell_type": "code",
   "execution_count": 59,
   "id": "f0c0cb64",
   "metadata": {},
   "outputs": [],
   "source": [
    "\n",
    "X_train = np.reshape(X_train, (X_train.shape[0], X_train.shape[1], 1))\n",
    "X_test = np.reshape(X_test, (X_test.shape[0], X_test.shape[1], 1))\n"
   ]
  },
  {
   "cell_type": "code",
   "execution_count": 60,
   "id": "7398d742",
   "metadata": {},
   "outputs": [
    {
     "name": "stdout",
     "output_type": "stream",
     "text": [
      "Shape of the X_train: (6400, 3, 1)\n",
      "Shape of the y_train: (6400,)\n",
      "Shape of the X_test: (1600, 3, 1)\n",
      "Shape of the y_test: (1600,)\n"
     ]
    }
   ],
   "source": [
    "print(\"Shape of the X_train:\", X_train.shape)\n",
    "print(\"Shape of the y_train:\", y_train.shape)\n",
    "print(\"Shape of the X_test:\", X_test.shape)\n",
    "print(\"Shape of the y_test:\", y_test.shape)\n"
   ]
  },
  {
   "cell_type": "code",
   "execution_count": 50,
   "id": "85815499",
   "metadata": {},
   "outputs": [
    {
     "ename": "IndexError",
     "evalue": "tuple index out of range",
     "output_type": "error",
     "traceback": [
      "\u001b[1;31m---------------------------------------------------------------------------\u001b[0m",
      "\u001b[1;31mIndexError\u001b[0m                                Traceback (most recent call last)",
      "Cell \u001b[1;32mIn[50], line 1\u001b[0m\n\u001b[1;32m----> 1\u001b[0m y_train \u001b[38;5;241m=\u001b[39m np\u001b[38;5;241m.\u001b[39mreshape(y_train, (y_train\u001b[38;5;241m.\u001b[39mshape[\u001b[38;5;241m0\u001b[39m], \u001b[38;5;241m1\u001b[39m,\u001b[43my_train\u001b[49m\u001b[38;5;241;43m.\u001b[39;49m\u001b[43mshape\u001b[49m\u001b[43m[\u001b[49m\u001b[38;5;241;43m1\u001b[39;49m\u001b[43m]\u001b[49m ))\n\u001b[0;32m      3\u001b[0m y_test \u001b[38;5;241m=\u001b[39m np\u001b[38;5;241m.\u001b[39mreshape(y_test, (y_test\u001b[38;5;241m.\u001b[39mshape[\u001b[38;5;241m0\u001b[39m], \u001b[38;5;241m1\u001b[39m,y_test\u001b[38;5;241m.\u001b[39mshape[\u001b[38;5;241m1\u001b[39m] ))\n",
      "\u001b[1;31mIndexError\u001b[0m: tuple index out of range"
     ]
    }
   ],
   "source": [
    "y_train = np.reshape(y_train, (y_train.shape[0], 1,y_train.shape[1] ))\n",
    "\n",
    "y_test = np.reshape(y_test, (y_test.shape[0], 1,y_test.shape[1] ))\n"
   ]
  },
  {
   "cell_type": "code",
   "execution_count": 40,
   "id": "4105b4f7",
   "metadata": {},
   "outputs": [
    {
     "name": "stdout",
     "output_type": "stream",
     "text": [
      "Shape of the X_train: (6400, 3)\n",
      "Shape of the y_train: (6400,)\n",
      "Shape of the X_test: (1600, 3)\n",
      "Shape of the y_test: (1600,)\n"
     ]
    }
   ],
   "source": [
    "print(\"Shape of the X_train:\", X_train.shape)\n",
    "print(\"Shape of the y_train:\", y_train.shape)\n",
    "print(\"Shape of the X_test:\", X_test.shape)\n",
    "print(\"Shape of the y_test:\", y_test.shape)"
   ]
  },
  {
   "cell_type": "code",
   "execution_count": 21,
   "id": "48a725f9",
   "metadata": {},
   "outputs": [],
   "source": [
    "\n",
    "\n",
    "y_train = np.reshape(y_train, (y_train.shape[0], 1, y_train.shape[1]))\n",
    "\n",
    "y_test = np.reshape(y_test, (y_test.shape[0], 1, y_test.shape[1]))\n"
   ]
  },
  {
   "cell_type": "code",
   "execution_count": 22,
   "id": "e7eaeca8",
   "metadata": {},
   "outputs": [
    {
     "name": "stdout",
     "output_type": "stream",
     "text": [
      "Shape of the X_train: (6400, 3, 1)\n",
      "Shape of the y_train: (6400, 1, 4)\n",
      "Shape of the X_test: (1600, 3, 1)\n",
      "Shape of the y_test: (1600, 1, 4)\n"
     ]
    }
   ],
   "source": [
    "print(\"Shape of the X_train:\", X_train.shape)\n",
    "print(\"Shape of the y_train:\", y_train.shape)\n",
    "print(\"Shape of the X_test:\", X_test.shape)\n",
    "print(\"Shape of the y_test:\", y_test.shape)"
   ]
  },
  {
   "cell_type": "code",
   "execution_count": 23,
   "id": "7e71a629",
   "metadata": {},
   "outputs": [],
   "source": [
    "from keras.callbacks import EarlyStopping\n",
    "\n",
    "# Create the EarlyStopping callback\n",
    "early_stopping = EarlyStopping(monitor='accuracy', patience=5)"
   ]
  },
  {
   "cell_type": "code",
   "execution_count": 63,
   "id": "8e9e3113",
   "metadata": {},
   "outputs": [
    {
     "name": "stdout",
     "output_type": "stream",
     "text": [
      "Model: \"sequential_3\"\n",
      "_________________________________________________________________\n",
      " Layer (type)                Output Shape              Param #   \n",
      "=================================================================\n",
      " conv1d_3 (Conv1D)           (None, 1, 32)             128       \n",
      "                                                                 \n",
      " lstm_8 (LSTM)               (None, 1, 64)             24832     \n",
      "                                                                 \n",
      " dropout_8 (Dropout)         (None, 1, 64)             0         \n",
      "                                                                 \n",
      " lstm_9 (LSTM)               (None, 1, 64)             33024     \n",
      "                                                                 \n",
      " dropout_9 (Dropout)         (None, 1, 64)             0         \n",
      "                                                                 \n",
      " dense_9 (Dense)             (None, 1, 128)            8320      \n",
      "                                                                 \n",
      " dense_10 (Dense)            (None, 1, 64)             8256      \n",
      "                                                                 \n",
      " dense_11 (Dense)            (None, 1, 1)              65        \n",
      "                                                                 \n",
      "=================================================================\n",
      "Total params: 74,625\n",
      "Trainable params: 74,625\n",
      "Non-trainable params: 0\n",
      "_________________________________________________________________\n"
     ]
    }
   ],
   "source": [
    "from tensorflow import keras\n",
    "from tensorflow.keras.models import Sequential\n",
    "from tensorflow.keras.layers import LSTM, Dropout, Dense, Conv1D\n",
    "from tensorflow.keras.optimizers import Adam\n",
    "from tensorflow.keras.losses import BinaryCrossentropy\n",
    "\n",
    "my_model = Sequential()\n",
    "my_model.add(Conv1D(filters=32, kernel_size=3, activation='relu', input_shape=(3,1)))\n",
    "\n",
    "# model.add(Conv1D(filters=32, kernel_size=3, activation='relu'))\n",
    "\n",
    "my_model.add(LSTM(units=64, return_sequences=True))\n",
    "my_model.add(Dropout(0.2))\n",
    "\n",
    "my_model.add(LSTM(units=64, return_sequences=True))\n",
    "my_model.add(Dropout(0.2))\n",
    "\n",
    "my_model.add(Dense(units=128, activation='relu'))\n",
    "\n",
    "my_model.add(Dense(units=64, activation='relu'))\n",
    "\n",
    "my_model.add(Dense(units=1, activation='sigmoid'))\n",
    "\n",
    "my_model.compile(loss='binary_crossentropy', optimizer='adam', metrics=['accuracy'])\n",
    "\n",
    "my_model.summary()\n"
   ]
  },
  {
   "cell_type": "code",
   "execution_count": 64,
   "id": "e894b38b",
   "metadata": {},
   "outputs": [
    {
     "name": "stdout",
     "output_type": "stream",
     "text": [
      "Epoch 1/20\n",
      "200/200 [==============================] - 8s 6ms/step - loss: -5.8910 - accuracy: 0.2537\n",
      "Epoch 2/20\n",
      "200/200 [==============================] - 1s 6ms/step - loss: -7.6961 - accuracy: 0.2533\n",
      "Epoch 3/20\n",
      "200/200 [==============================] - 1s 6ms/step - loss: -7.6961 - accuracy: 0.2533\n",
      "Epoch 4/20\n",
      "200/200 [==============================] - 1s 6ms/step - loss: -7.6961 - accuracy: 0.2533\n",
      "Epoch 5/20\n",
      "200/200 [==============================] - 1s 6ms/step - loss: -7.6961 - accuracy: 0.2533\n",
      "Epoch 6/20\n",
      "200/200 [==============================] - 1s 6ms/step - loss: -7.6961 - accuracy: 0.2533\n",
      "Epoch 7/20\n",
      "200/200 [==============================] - 1s 6ms/step - loss: -7.6961 - accuracy: 0.2533\n",
      "Epoch 8/20\n",
      "200/200 [==============================] - 1s 6ms/step - loss: -7.6961 - accuracy: 0.2533\n",
      "Epoch 9/20\n",
      "200/200 [==============================] - 1s 7ms/step - loss: -7.6961 - accuracy: 0.2533\n",
      "Epoch 10/20\n",
      "200/200 [==============================] - 1s 7ms/step - loss: -7.6961 - accuracy: 0.2533\n",
      "Epoch 11/20\n",
      "200/200 [==============================] - 1s 7ms/step - loss: -7.6961 - accuracy: 0.2533\n",
      "Epoch 12/20\n",
      "200/200 [==============================] - 1s 7ms/step - loss: -7.6961 - accuracy: 0.2533\n",
      "Epoch 13/20\n",
      "200/200 [==============================] - 4s 22ms/step - loss: -7.6961 - accuracy: 0.2533\n",
      "Epoch 14/20\n",
      "200/200 [==============================] - 5s 25ms/step - loss: -7.6961 - accuracy: 0.2533\n",
      "Epoch 15/20\n",
      "200/200 [==============================] - 5s 25ms/step - loss: -7.6961 - accuracy: 0.2533\n",
      "Epoch 16/20\n",
      "200/200 [==============================] - 5s 24ms/step - loss: -7.6961 - accuracy: 0.2533\n",
      "Epoch 17/20\n",
      "200/200 [==============================] - 4s 22ms/step - loss: -7.6961 - accuracy: 0.2533\n",
      "Epoch 18/20\n",
      "200/200 [==============================] - 4s 19ms/step - loss: -7.6961 - accuracy: 0.2533\n",
      "Epoch 19/20\n",
      "200/200 [==============================] - 4s 19ms/step - loss: -7.6961 - accuracy: 0.2533\n",
      "Epoch 20/20\n",
      "200/200 [==============================] - 3s 16ms/step - loss: -7.6961 - accuracy: 0.2533\n"
     ]
    },
    {
     "data": {
      "text/plain": [
       "<keras.callbacks.History at 0x22d5b731330>"
      ]
     },
     "execution_count": 64,
     "metadata": {},
     "output_type": "execute_result"
    }
   ],
   "source": [
    "my_model.fit(X_train , y_train, epochs = 20)"
   ]
  },
  {
   "cell_type": "code",
   "execution_count": null,
   "id": "829aee0b",
   "metadata": {},
   "outputs": [],
   "source": []
  }
 ],
 "metadata": {
  "kernelspec": {
   "display_name": "Python 3 (ipykernel)",
   "language": "python",
   "name": "python3"
  },
  "language_info": {
   "codemirror_mode": {
    "name": "ipython",
    "version": 3
   },
   "file_extension": ".py",
   "mimetype": "text/x-python",
   "name": "python",
   "nbconvert_exporter": "python",
   "pygments_lexer": "ipython3",
   "version": "3.10.11"
  }
 },
 "nbformat": 4,
 "nbformat_minor": 5
}
