{
 "cells": [
  {
   "cell_type": "code",
   "execution_count": 3,
   "id": "fde74e52",
   "metadata": {},
   "outputs": [],
   "source": [
    "import pandas as pd\n",
    "import numpy as np"
   ]
  },
  {
   "cell_type": "code",
   "execution_count": 4,
   "id": "29f54924",
   "metadata": {},
   "outputs": [
    {
     "ename": "KeyError",
     "evalue": "\"['Unnamed: 0'] not found in axis\"",
     "output_type": "error",
     "traceback": [
      "\u001b[1;31m---------------------------------------------------------------------------\u001b[0m",
      "\u001b[1;31mKeyError\u001b[0m                                  Traceback (most recent call last)",
      "Cell \u001b[1;32mIn[4], line 2\u001b[0m\n\u001b[0;32m      1\u001b[0m data \u001b[38;5;241m=\u001b[39m pd\u001b[38;5;241m.\u001b[39mread_csv(\u001b[38;5;124m\"\u001b[39m\u001b[38;5;124mSingle_data.csv\u001b[39m\u001b[38;5;124m\"\u001b[39m)\n\u001b[1;32m----> 2\u001b[0m data \u001b[38;5;241m=\u001b[39m \u001b[43mdata\u001b[49m\u001b[38;5;241;43m.\u001b[39;49m\u001b[43mdrop\u001b[49m\u001b[43m(\u001b[49m\u001b[38;5;124;43m\"\u001b[39;49m\u001b[38;5;124;43mUnnamed: 0\u001b[39;49m\u001b[38;5;124;43m\"\u001b[39;49m\u001b[43m,\u001b[49m\u001b[43m \u001b[49m\u001b[43maxis\u001b[49m\u001b[43m \u001b[49m\u001b[38;5;241;43m=\u001b[39;49m\u001b[43m \u001b[49m\u001b[38;5;241;43m1\u001b[39;49m\u001b[43m)\u001b[49m\n",
      "File \u001b[1;32m~\\AppData\\Local\\Programs\\Python\\Python310\\lib\\site-packages\\pandas\\core\\frame.py:5268\u001b[0m, in \u001b[0;36mDataFrame.drop\u001b[1;34m(self, labels, axis, index, columns, level, inplace, errors)\u001b[0m\n\u001b[0;32m   5120\u001b[0m \u001b[38;5;28;01mdef\u001b[39;00m \u001b[38;5;21mdrop\u001b[39m(\n\u001b[0;32m   5121\u001b[0m     \u001b[38;5;28mself\u001b[39m,\n\u001b[0;32m   5122\u001b[0m     labels: IndexLabel \u001b[38;5;241m=\u001b[39m \u001b[38;5;28;01mNone\u001b[39;00m,\n\u001b[1;32m   (...)\u001b[0m\n\u001b[0;32m   5129\u001b[0m     errors: IgnoreRaise \u001b[38;5;241m=\u001b[39m \u001b[38;5;124m\"\u001b[39m\u001b[38;5;124mraise\u001b[39m\u001b[38;5;124m\"\u001b[39m,\n\u001b[0;32m   5130\u001b[0m ) \u001b[38;5;241m-\u001b[39m\u001b[38;5;241m>\u001b[39m DataFrame \u001b[38;5;241m|\u001b[39m \u001b[38;5;28;01mNone\u001b[39;00m:\n\u001b[0;32m   5131\u001b[0m \u001b[38;5;250m    \u001b[39m\u001b[38;5;124;03m\"\"\"\u001b[39;00m\n\u001b[0;32m   5132\u001b[0m \u001b[38;5;124;03m    Drop specified labels from rows or columns.\u001b[39;00m\n\u001b[0;32m   5133\u001b[0m \n\u001b[1;32m   (...)\u001b[0m\n\u001b[0;32m   5266\u001b[0m \u001b[38;5;124;03m            weight  1.0     0.8\u001b[39;00m\n\u001b[0;32m   5267\u001b[0m \u001b[38;5;124;03m    \"\"\"\u001b[39;00m\n\u001b[1;32m-> 5268\u001b[0m     \u001b[38;5;28;01mreturn\u001b[39;00m \u001b[38;5;28;43msuper\u001b[39;49m\u001b[43m(\u001b[49m\u001b[43m)\u001b[49m\u001b[38;5;241;43m.\u001b[39;49m\u001b[43mdrop\u001b[49m\u001b[43m(\u001b[49m\n\u001b[0;32m   5269\u001b[0m \u001b[43m        \u001b[49m\u001b[43mlabels\u001b[49m\u001b[38;5;241;43m=\u001b[39;49m\u001b[43mlabels\u001b[49m\u001b[43m,\u001b[49m\n\u001b[0;32m   5270\u001b[0m \u001b[43m        \u001b[49m\u001b[43maxis\u001b[49m\u001b[38;5;241;43m=\u001b[39;49m\u001b[43maxis\u001b[49m\u001b[43m,\u001b[49m\n\u001b[0;32m   5271\u001b[0m \u001b[43m        \u001b[49m\u001b[43mindex\u001b[49m\u001b[38;5;241;43m=\u001b[39;49m\u001b[43mindex\u001b[49m\u001b[43m,\u001b[49m\n\u001b[0;32m   5272\u001b[0m \u001b[43m        \u001b[49m\u001b[43mcolumns\u001b[49m\u001b[38;5;241;43m=\u001b[39;49m\u001b[43mcolumns\u001b[49m\u001b[43m,\u001b[49m\n\u001b[0;32m   5273\u001b[0m \u001b[43m        \u001b[49m\u001b[43mlevel\u001b[49m\u001b[38;5;241;43m=\u001b[39;49m\u001b[43mlevel\u001b[49m\u001b[43m,\u001b[49m\n\u001b[0;32m   5274\u001b[0m \u001b[43m        \u001b[49m\u001b[43minplace\u001b[49m\u001b[38;5;241;43m=\u001b[39;49m\u001b[43minplace\u001b[49m\u001b[43m,\u001b[49m\n\u001b[0;32m   5275\u001b[0m \u001b[43m        \u001b[49m\u001b[43merrors\u001b[49m\u001b[38;5;241;43m=\u001b[39;49m\u001b[43merrors\u001b[49m\u001b[43m,\u001b[49m\n\u001b[0;32m   5276\u001b[0m \u001b[43m    \u001b[49m\u001b[43m)\u001b[49m\n",
      "File \u001b[1;32m~\\AppData\\Local\\Programs\\Python\\Python310\\lib\\site-packages\\pandas\\core\\generic.py:4549\u001b[0m, in \u001b[0;36mNDFrame.drop\u001b[1;34m(self, labels, axis, index, columns, level, inplace, errors)\u001b[0m\n\u001b[0;32m   4547\u001b[0m \u001b[38;5;28;01mfor\u001b[39;00m axis, labels \u001b[38;5;129;01min\u001b[39;00m axes\u001b[38;5;241m.\u001b[39mitems():\n\u001b[0;32m   4548\u001b[0m     \u001b[38;5;28;01mif\u001b[39;00m labels \u001b[38;5;129;01mis\u001b[39;00m \u001b[38;5;129;01mnot\u001b[39;00m \u001b[38;5;28;01mNone\u001b[39;00m:\n\u001b[1;32m-> 4549\u001b[0m         obj \u001b[38;5;241m=\u001b[39m \u001b[43mobj\u001b[49m\u001b[38;5;241;43m.\u001b[39;49m\u001b[43m_drop_axis\u001b[49m\u001b[43m(\u001b[49m\u001b[43mlabels\u001b[49m\u001b[43m,\u001b[49m\u001b[43m \u001b[49m\u001b[43maxis\u001b[49m\u001b[43m,\u001b[49m\u001b[43m \u001b[49m\u001b[43mlevel\u001b[49m\u001b[38;5;241;43m=\u001b[39;49m\u001b[43mlevel\u001b[49m\u001b[43m,\u001b[49m\u001b[43m \u001b[49m\u001b[43merrors\u001b[49m\u001b[38;5;241;43m=\u001b[39;49m\u001b[43merrors\u001b[49m\u001b[43m)\u001b[49m\n\u001b[0;32m   4551\u001b[0m \u001b[38;5;28;01mif\u001b[39;00m inplace:\n\u001b[0;32m   4552\u001b[0m     \u001b[38;5;28mself\u001b[39m\u001b[38;5;241m.\u001b[39m_update_inplace(obj)\n",
      "File \u001b[1;32m~\\AppData\\Local\\Programs\\Python\\Python310\\lib\\site-packages\\pandas\\core\\generic.py:4591\u001b[0m, in \u001b[0;36mNDFrame._drop_axis\u001b[1;34m(self, labels, axis, level, errors, only_slice)\u001b[0m\n\u001b[0;32m   4589\u001b[0m         new_axis \u001b[38;5;241m=\u001b[39m axis\u001b[38;5;241m.\u001b[39mdrop(labels, level\u001b[38;5;241m=\u001b[39mlevel, errors\u001b[38;5;241m=\u001b[39merrors)\n\u001b[0;32m   4590\u001b[0m     \u001b[38;5;28;01melse\u001b[39;00m:\n\u001b[1;32m-> 4591\u001b[0m         new_axis \u001b[38;5;241m=\u001b[39m \u001b[43maxis\u001b[49m\u001b[38;5;241;43m.\u001b[39;49m\u001b[43mdrop\u001b[49m\u001b[43m(\u001b[49m\u001b[43mlabels\u001b[49m\u001b[43m,\u001b[49m\u001b[43m \u001b[49m\u001b[43merrors\u001b[49m\u001b[38;5;241;43m=\u001b[39;49m\u001b[43merrors\u001b[49m\u001b[43m)\u001b[49m\n\u001b[0;32m   4592\u001b[0m     indexer \u001b[38;5;241m=\u001b[39m axis\u001b[38;5;241m.\u001b[39mget_indexer(new_axis)\n\u001b[0;32m   4594\u001b[0m \u001b[38;5;66;03m# Case for non-unique axis\u001b[39;00m\n\u001b[0;32m   4595\u001b[0m \u001b[38;5;28;01melse\u001b[39;00m:\n",
      "File \u001b[1;32m~\\AppData\\Local\\Programs\\Python\\Python310\\lib\\site-packages\\pandas\\core\\indexes\\base.py:6696\u001b[0m, in \u001b[0;36mIndex.drop\u001b[1;34m(self, labels, errors)\u001b[0m\n\u001b[0;32m   6694\u001b[0m \u001b[38;5;28;01mif\u001b[39;00m mask\u001b[38;5;241m.\u001b[39many():\n\u001b[0;32m   6695\u001b[0m     \u001b[38;5;28;01mif\u001b[39;00m errors \u001b[38;5;241m!=\u001b[39m \u001b[38;5;124m\"\u001b[39m\u001b[38;5;124mignore\u001b[39m\u001b[38;5;124m\"\u001b[39m:\n\u001b[1;32m-> 6696\u001b[0m         \u001b[38;5;28;01mraise\u001b[39;00m \u001b[38;5;167;01mKeyError\u001b[39;00m(\u001b[38;5;124mf\u001b[39m\u001b[38;5;124m\"\u001b[39m\u001b[38;5;132;01m{\u001b[39;00m\u001b[38;5;28mlist\u001b[39m(labels[mask])\u001b[38;5;132;01m}\u001b[39;00m\u001b[38;5;124m not found in axis\u001b[39m\u001b[38;5;124m\"\u001b[39m)\n\u001b[0;32m   6697\u001b[0m     indexer \u001b[38;5;241m=\u001b[39m indexer[\u001b[38;5;241m~\u001b[39mmask]\n\u001b[0;32m   6698\u001b[0m \u001b[38;5;28;01mreturn\u001b[39;00m \u001b[38;5;28mself\u001b[39m\u001b[38;5;241m.\u001b[39mdelete(indexer)\n",
      "\u001b[1;31mKeyError\u001b[0m: \"['Unnamed: 0'] not found in axis\""
     ]
    }
   ],
   "source": [
    "data = pd.read_csv(\"Single_data.csv\")\n",
    "# data = data.drop(\"Unnamed: 0\", axis = 1)"
   ]
  },
  {
   "cell_type": "code",
   "execution_count": 5,
   "id": "5b579eff",
   "metadata": {},
   "outputs": [
    {
     "data": {
      "text/html": [
       "<div>\n",
       "<style scoped>\n",
       "    .dataframe tbody tr th:only-of-type {\n",
       "        vertical-align: middle;\n",
       "    }\n",
       "\n",
       "    .dataframe tbody tr th {\n",
       "        vertical-align: top;\n",
       "    }\n",
       "\n",
       "    .dataframe thead th {\n",
       "        text-align: right;\n",
       "    }\n",
       "</style>\n",
       "<table border=\"1\" class=\"dataframe\">\n",
       "  <thead>\n",
       "    <tr style=\"text-align: right;\">\n",
       "      <th></th>\n",
       "      <th>AnalogValue</th>\n",
       "      <th>Density</th>\n",
       "      <th>Amplitude</th>\n",
       "      <th>Result</th>\n",
       "    </tr>\n",
       "  </thead>\n",
       "  <tbody>\n",
       "    <tr>\n",
       "      <th>0</th>\n",
       "      <td>587</td>\n",
       "      <td>579</td>\n",
       "      <td>0.72</td>\n",
       "      <td>0</td>\n",
       "    </tr>\n",
       "    <tr>\n",
       "      <th>1</th>\n",
       "      <td>589</td>\n",
       "      <td>592</td>\n",
       "      <td>0.72</td>\n",
       "      <td>0</td>\n",
       "    </tr>\n",
       "    <tr>\n",
       "      <th>2</th>\n",
       "      <td>605</td>\n",
       "      <td>603</td>\n",
       "      <td>0.74</td>\n",
       "      <td>0</td>\n",
       "    </tr>\n",
       "    <tr>\n",
       "      <th>3</th>\n",
       "      <td>624</td>\n",
       "      <td>627</td>\n",
       "      <td>0.76</td>\n",
       "      <td>0</td>\n",
       "    </tr>\n",
       "    <tr>\n",
       "      <th>4</th>\n",
       "      <td>622</td>\n",
       "      <td>622</td>\n",
       "      <td>0.76</td>\n",
       "      <td>0</td>\n",
       "    </tr>\n",
       "  </tbody>\n",
       "</table>\n",
       "</div>"
      ],
      "text/plain": [
       "   AnalogValue  Density  Amplitude  Result\n",
       "0          587      579       0.72       0\n",
       "1          589      592       0.72       0\n",
       "2          605      603       0.74       0\n",
       "3          624      627       0.76       0\n",
       "4          622      622       0.76       0"
      ]
     },
     "execution_count": 5,
     "metadata": {},
     "output_type": "execute_result"
    }
   ],
   "source": [
    "data.head()"
   ]
  },
  {
   "cell_type": "code",
   "execution_count": 6,
   "id": "661100b8",
   "metadata": {},
   "outputs": [
    {
     "data": {
      "text/html": [
       "<div>\n",
       "<style scoped>\n",
       "    .dataframe tbody tr th:only-of-type {\n",
       "        vertical-align: middle;\n",
       "    }\n",
       "\n",
       "    .dataframe tbody tr th {\n",
       "        vertical-align: top;\n",
       "    }\n",
       "\n",
       "    .dataframe thead th {\n",
       "        text-align: right;\n",
       "    }\n",
       "</style>\n",
       "<table border=\"1\" class=\"dataframe\">\n",
       "  <thead>\n",
       "    <tr style=\"text-align: right;\">\n",
       "      <th></th>\n",
       "      <th>AnalogValue</th>\n",
       "      <th>Density</th>\n",
       "      <th>Amplitude</th>\n",
       "    </tr>\n",
       "  </thead>\n",
       "  <tbody>\n",
       "    <tr>\n",
       "      <th>0</th>\n",
       "      <td>587</td>\n",
       "      <td>579</td>\n",
       "      <td>0.72</td>\n",
       "    </tr>\n",
       "    <tr>\n",
       "      <th>1</th>\n",
       "      <td>589</td>\n",
       "      <td>592</td>\n",
       "      <td>0.72</td>\n",
       "    </tr>\n",
       "    <tr>\n",
       "      <th>2</th>\n",
       "      <td>605</td>\n",
       "      <td>603</td>\n",
       "      <td>0.74</td>\n",
       "    </tr>\n",
       "    <tr>\n",
       "      <th>3</th>\n",
       "      <td>624</td>\n",
       "      <td>627</td>\n",
       "      <td>0.76</td>\n",
       "    </tr>\n",
       "    <tr>\n",
       "      <th>4</th>\n",
       "      <td>622</td>\n",
       "      <td>622</td>\n",
       "      <td>0.76</td>\n",
       "    </tr>\n",
       "  </tbody>\n",
       "</table>\n",
       "</div>"
      ],
      "text/plain": [
       "   AnalogValue  Density  Amplitude\n",
       "0          587      579       0.72\n",
       "1          589      592       0.72\n",
       "2          605      603       0.74\n",
       "3          624      627       0.76\n",
       "4          622      622       0.76"
      ]
     },
     "execution_count": 6,
     "metadata": {},
     "output_type": "execute_result"
    }
   ],
   "source": [
    "X = data.iloc[:,:-1]\n",
    "y = data.iloc[:, -1]\n",
    "X.head()"
   ]
  },
  {
   "cell_type": "code",
   "execution_count": 7,
   "id": "e3207b1e",
   "metadata": {},
   "outputs": [
    {
     "data": {
      "text/plain": [
       "0    0\n",
       "1    0\n",
       "2    0\n",
       "3    0\n",
       "4    0\n",
       "Name: Result, dtype: int64"
      ]
     },
     "execution_count": 7,
     "metadata": {},
     "output_type": "execute_result"
    }
   ],
   "source": [
    "y.head()"
   ]
  },
  {
   "cell_type": "code",
   "execution_count": 8,
   "id": "0e06750f",
   "metadata": {},
   "outputs": [],
   "source": [
    "from sklearn.preprocessing import MinMaxScaler\n",
    "scaler = MinMaxScaler()\n",
    "X = scaler.fit_transform(X)\n"
   ]
  },
  {
   "cell_type": "code",
   "execution_count": 9,
   "id": "022d87fe",
   "metadata": {},
   "outputs": [],
   "source": [
    "from sklearn.model_selection import train_test_split\n",
    "X_train, X_test, y_train, y_test = train_test_split(X, y, test_size=0.2, random_state=42)\n"
   ]
  },
  {
   "cell_type": "code",
   "execution_count": 10,
   "id": "75d40fac",
   "metadata": {},
   "outputs": [
    {
     "name": "stdout",
     "output_type": "stream",
     "text": [
      "Shape of the X_train: (320, 3)\n",
      "Shape of the y_train: (320,)\n",
      "Shape of the X_test: (80, 3)\n",
      "Shape of the y_test: (80,)\n"
     ]
    }
   ],
   "source": [
    "print(\"Shape of the X_train:\", X_train.shape)\n",
    "print(\"Shape of the y_train:\", y_train.shape)\n",
    "print(\"Shape of the X_test:\", X_test.shape)\n",
    "print(\"Shape of the y_test:\", y_test.shape)"
   ]
  },
  {
   "cell_type": "code",
   "execution_count": 11,
   "id": "ef276c7e",
   "metadata": {},
   "outputs": [],
   "source": [
    "\n",
    "X_train = np.reshape(X_train, (X_train.shape[0], X_train.shape[1], 1))\n",
    "X_test = np.reshape(X_test, (X_test.shape[0], X_test.shape[1], 1))\n"
   ]
  },
  {
   "cell_type": "code",
   "execution_count": 12,
   "id": "19d11dff",
   "metadata": {},
   "outputs": [
    {
     "name": "stdout",
     "output_type": "stream",
     "text": [
      "Shape of the X_train: (320, 3, 1)\n",
      "Shape of the y_train: (320,)\n",
      "Shape of the X_test: (80, 3, 1)\n",
      "Shape of the y_test: (80,)\n"
     ]
    }
   ],
   "source": [
    "print(\"Shape of the X_train:\", X_train.shape)\n",
    "print(\"Shape of the y_train:\", y_train.shape)\n",
    "print(\"Shape of the X_test:\", X_test.shape)\n",
    "print(\"Shape of the y_test:\", y_test.shape)"
   ]
  },
  {
   "cell_type": "code",
   "execution_count": 12,
   "id": "b6ed57ce",
   "metadata": {},
   "outputs": [
    {
     "name": "stdout",
     "output_type": "stream",
     "text": [
      "(320, 4)\n"
     ]
    }
   ],
   "source": [
    "# from keras.utils import to_categorical\n",
    "from keras.utils import to_categorical\n",
    "\n",
    "# Convert y_train to one-hot encoded format\n",
    "y_train = to_categorical(y_train)\n",
    "y_test = to_categorical(y_test)\n",
    "\n",
    "# Check the shape\n",
    "print(y_train.shape)"
   ]
  },
  {
   "cell_type": "code",
   "execution_count": 23,
   "id": "daff4b86",
   "metadata": {},
   "outputs": [
    {
     "name": "stdout",
     "output_type": "stream",
     "text": [
      "Shape of the X_train: (320, 3, 1)\n",
      "Shape of the y_train: (320, 1, 4)\n",
      "Shape of the X_test: (80, 3, 1)\n",
      "Shape of the y_test: (80, 1, 4)\n"
     ]
    }
   ],
   "source": [
    "print(\"Shape of the X_train:\", X_train.shape)\n",
    "print(\"Shape of the y_train:\", y_train.shape)\n",
    "print(\"Shape of the X_test:\", X_test.shape)\n",
    "print(\"Shape of the y_test:\", y_test.shape)"
   ]
  },
  {
   "cell_type": "code",
   "execution_count": 33,
   "id": "4da7b52d",
   "metadata": {},
   "outputs": [
    {
     "ename": "ValueError",
     "evalue": "One of the dimensions in the output is <= 0 due to downsampling in conv1d_5. Consider increasing the input size. Received input shape [None, 1, 32] which would produce output shape with a zero or negative value in a dimension.",
     "output_type": "error",
     "traceback": [
      "\u001b[1;31m---------------------------------------------------------------------------\u001b[0m",
      "\u001b[1;31mValueError\u001b[0m                                Traceback (most recent call last)",
      "Cell \u001b[1;32mIn[33], line 9\u001b[0m\n\u001b[0;32m      7\u001b[0m my_model1 \u001b[38;5;241m=\u001b[39m Sequential()\n\u001b[0;32m      8\u001b[0m my_model1\u001b[38;5;241m.\u001b[39madd(Conv1D(filters\u001b[38;5;241m=\u001b[39m\u001b[38;5;241m32\u001b[39m, kernel_size\u001b[38;5;241m=\u001b[39m\u001b[38;5;241m3\u001b[39m, activation\u001b[38;5;241m=\u001b[39m\u001b[38;5;124m'\u001b[39m\u001b[38;5;124mrelu\u001b[39m\u001b[38;5;124m'\u001b[39m, input_shape\u001b[38;5;241m=\u001b[39m(\u001b[38;5;241m3\u001b[39m, \u001b[38;5;241m1\u001b[39m)))\n\u001b[1;32m----> 9\u001b[0m \u001b[43mmy_model1\u001b[49m\u001b[38;5;241;43m.\u001b[39;49m\u001b[43madd\u001b[49m\u001b[43m(\u001b[49m\u001b[43mConv1D\u001b[49m\u001b[43m(\u001b[49m\u001b[43mfilters\u001b[49m\u001b[38;5;241;43m=\u001b[39;49m\u001b[38;5;241;43m64\u001b[39;49m\u001b[43m,\u001b[49m\u001b[43m \u001b[49m\u001b[43mkernel_size\u001b[49m\u001b[38;5;241;43m=\u001b[39;49m\u001b[38;5;241;43m3\u001b[39;49m\u001b[43m,\u001b[49m\u001b[43m \u001b[49m\u001b[43mactivation\u001b[49m\u001b[38;5;241;43m=\u001b[39;49m\u001b[38;5;124;43m'\u001b[39;49m\u001b[38;5;124;43mrelu\u001b[39;49m\u001b[38;5;124;43m'\u001b[39;49m\u001b[43m)\u001b[49m\u001b[43m)\u001b[49m\n\u001b[0;32m     10\u001b[0m my_model1\u001b[38;5;241m.\u001b[39madd(LSTM(units\u001b[38;5;241m=\u001b[39m\u001b[38;5;241m64\u001b[39m, return_sequences\u001b[38;5;241m=\u001b[39m\u001b[38;5;28;01mTrue\u001b[39;00m))\n\u001b[0;32m     11\u001b[0m my_model1\u001b[38;5;241m.\u001b[39madd(Dropout(\u001b[38;5;241m0.2\u001b[39m))\n",
      "File \u001b[1;32m~\\AppData\\Local\\Programs\\Python\\Python310\\lib\\site-packages\\tensorflow\\python\\trackable\\base.py:205\u001b[0m, in \u001b[0;36mno_automatic_dependency_tracking.<locals>._method_wrapper\u001b[1;34m(self, *args, **kwargs)\u001b[0m\n\u001b[0;32m    203\u001b[0m \u001b[38;5;28mself\u001b[39m\u001b[38;5;241m.\u001b[39m_self_setattr_tracking \u001b[38;5;241m=\u001b[39m \u001b[38;5;28;01mFalse\u001b[39;00m  \u001b[38;5;66;03m# pylint: disable=protected-access\u001b[39;00m\n\u001b[0;32m    204\u001b[0m \u001b[38;5;28;01mtry\u001b[39;00m:\n\u001b[1;32m--> 205\u001b[0m   result \u001b[38;5;241m=\u001b[39m method(\u001b[38;5;28mself\u001b[39m, \u001b[38;5;241m*\u001b[39margs, \u001b[38;5;241m*\u001b[39m\u001b[38;5;241m*\u001b[39mkwargs)\n\u001b[0;32m    206\u001b[0m \u001b[38;5;28;01mfinally\u001b[39;00m:\n\u001b[0;32m    207\u001b[0m   \u001b[38;5;28mself\u001b[39m\u001b[38;5;241m.\u001b[39m_self_setattr_tracking \u001b[38;5;241m=\u001b[39m previous_value  \u001b[38;5;66;03m# pylint: disable=protected-access\u001b[39;00m\n",
      "File \u001b[1;32m~\\AppData\\Local\\Programs\\Python\\Python310\\lib\\site-packages\\keras\\utils\\traceback_utils.py:70\u001b[0m, in \u001b[0;36mfilter_traceback.<locals>.error_handler\u001b[1;34m(*args, **kwargs)\u001b[0m\n\u001b[0;32m     67\u001b[0m     filtered_tb \u001b[38;5;241m=\u001b[39m _process_traceback_frames(e\u001b[38;5;241m.\u001b[39m__traceback__)\n\u001b[0;32m     68\u001b[0m     \u001b[38;5;66;03m# To get the full stack trace, call:\u001b[39;00m\n\u001b[0;32m     69\u001b[0m     \u001b[38;5;66;03m# `tf.debugging.disable_traceback_filtering()`\u001b[39;00m\n\u001b[1;32m---> 70\u001b[0m     \u001b[38;5;28;01mraise\u001b[39;00m e\u001b[38;5;241m.\u001b[39mwith_traceback(filtered_tb) \u001b[38;5;28;01mfrom\u001b[39;00m \u001b[38;5;28;01mNone\u001b[39;00m\n\u001b[0;32m     71\u001b[0m \u001b[38;5;28;01mfinally\u001b[39;00m:\n\u001b[0;32m     72\u001b[0m     \u001b[38;5;28;01mdel\u001b[39;00m filtered_tb\n",
      "File \u001b[1;32m~\\AppData\\Local\\Programs\\Python\\Python310\\lib\\site-packages\\keras\\layers\\convolutional\\base_conv.py:354\u001b[0m, in \u001b[0;36mConv.compute_output_shape\u001b[1;34m(self, input_shape)\u001b[0m\n\u001b[0;32m    347\u001b[0m         \u001b[38;5;28;01mreturn\u001b[39;00m tf\u001b[38;5;241m.\u001b[39mTensorShape(\n\u001b[0;32m    348\u001b[0m             input_shape[:batch_rank]\n\u001b[0;32m    349\u001b[0m             \u001b[38;5;241m+\u001b[39m [\u001b[38;5;28mself\u001b[39m\u001b[38;5;241m.\u001b[39mfilters]\n\u001b[0;32m    350\u001b[0m             \u001b[38;5;241m+\u001b[39m \u001b[38;5;28mself\u001b[39m\u001b[38;5;241m.\u001b[39m_spatial_output_shape(input_shape[batch_rank \u001b[38;5;241m+\u001b[39m \u001b[38;5;241m1\u001b[39m :])\n\u001b[0;32m    351\u001b[0m         )\n\u001b[0;32m    353\u001b[0m \u001b[38;5;28;01mexcept\u001b[39;00m \u001b[38;5;167;01mValueError\u001b[39;00m:\n\u001b[1;32m--> 354\u001b[0m     \u001b[38;5;28;01mraise\u001b[39;00m \u001b[38;5;167;01mValueError\u001b[39;00m(\n\u001b[0;32m    355\u001b[0m         \u001b[38;5;124m\"\u001b[39m\u001b[38;5;124mOne of the dimensions in the output is <= 0 \u001b[39m\u001b[38;5;124m\"\u001b[39m\n\u001b[0;32m    356\u001b[0m         \u001b[38;5;124mf\u001b[39m\u001b[38;5;124m\"\u001b[39m\u001b[38;5;124mdue to downsampling in \u001b[39m\u001b[38;5;132;01m{\u001b[39;00m\u001b[38;5;28mself\u001b[39m\u001b[38;5;241m.\u001b[39mname\u001b[38;5;132;01m}\u001b[39;00m\u001b[38;5;124m. Consider \u001b[39m\u001b[38;5;124m\"\u001b[39m\n\u001b[0;32m    357\u001b[0m         \u001b[38;5;124m\"\u001b[39m\u001b[38;5;124mincreasing the input size. \u001b[39m\u001b[38;5;124m\"\u001b[39m\n\u001b[0;32m    358\u001b[0m         \u001b[38;5;124mf\u001b[39m\u001b[38;5;124m\"\u001b[39m\u001b[38;5;124mReceived input shape \u001b[39m\u001b[38;5;132;01m{\u001b[39;00minput_shape\u001b[38;5;132;01m}\u001b[39;00m\u001b[38;5;124m which would produce \u001b[39m\u001b[38;5;124m\"\u001b[39m\n\u001b[0;32m    359\u001b[0m         \u001b[38;5;124m\"\u001b[39m\u001b[38;5;124moutput shape with a zero or negative value in a \u001b[39m\u001b[38;5;124m\"\u001b[39m\n\u001b[0;32m    360\u001b[0m         \u001b[38;5;124m\"\u001b[39m\u001b[38;5;124mdimension.\u001b[39m\u001b[38;5;124m\"\u001b[39m\n\u001b[0;32m    361\u001b[0m     )\n",
      "\u001b[1;31mValueError\u001b[0m: One of the dimensions in the output is <= 0 due to downsampling in conv1d_5. Consider increasing the input size. Received input shape [None, 1, 32] which would produce output shape with a zero or negative value in a dimension."
     ]
    }
   ],
   "source": [
    "from tensorflow import keras\n",
    "from tensorflow.keras.models import Sequential\n",
    "from tensorflow.keras.layers import LSTM, Dropout, Dense, Conv1D\n",
    "from tensorflow.keras.optimizers import Adam\n",
    "from tensorflow.keras.losses import CategoricalCrossentropy\n",
    "\n",
    "my_model1 = Sequential()\n",
    "my_model1.add(Conv1D(filters=32, kernel_size=3, activation='relu', input_shape=(3, 1)))\n",
    "# my_model1.add(Conv1D(filters=64, kernel_size=3, activation='relu'))\n",
    "my_model1.add(LSTM(units=64, return_sequences=True))\n",
    "my_model1.add(Dropout(0.2))\n",
    "\n",
    "my_model1.add(LSTM(units=64, return_sequences=True))\n",
    "my_model1.add(Dropout(0.2))\n",
    "\n",
    "my_model1.add(Dense(units=128, activation='relu'))\n",
    "my_model1.add(Dense(units=64, activation='relu'))\n",
    "my_model1.add(Dense(units=4, activation='sigmoid'))\n",
    "\n",
    "my_model1.compile(loss=CategoricalCrossentropy(), optimizer=Adam(), metrics=['accuracy'])\n",
    "\n",
    "my_model1.summary()\n"
   ]
  },
  {
   "cell_type": "code",
   "execution_count": 18,
   "id": "e387fa79",
   "metadata": {},
   "outputs": [],
   "source": [
    "from keras.callbacks import EarlyStopping\n",
    "\n",
    "# Create the EarlyStopping callback\n",
    "early_stopping = EarlyStopping(monitor='accuracy', patience=5)"
   ]
  },
  {
   "cell_type": "code",
   "execution_count": 20,
   "id": "16ff589e",
   "metadata": {},
   "outputs": [],
   "source": [
    "\n",
    "\n",
    "y_train = np.reshape(y_train, (y_train.shape[0], 1, y_train.shape[1]))\n",
    "\n",
    "y_test = np.reshape(y_test, (y_test.shape[0], 1, y_test.shape[1]))\n"
   ]
  },
  {
   "cell_type": "code",
   "execution_count": 69,
   "id": "4f2ed85c",
   "metadata": {},
   "outputs": [
    {
     "name": "stdout",
     "output_type": "stream",
     "text": [
      "The shape of the y_train:  (320, 1, 4)\n",
      "The shape of the y_test:  (80, 1, 4)\n"
     ]
    }
   ],
   "source": [
    "print(\"The shape of the y_train: \", y_train.shape)\n",
    "print(\"The shape of the y_test: \", y_test.shape)"
   ]
  },
  {
   "cell_type": "code",
   "execution_count": 30,
   "id": "1a9b0d62",
   "metadata": {},
   "outputs": [
    {
     "name": "stdout",
     "output_type": "stream",
     "text": [
      "Epoch 1/100\n",
      "10/10 [==============================] - 8s 9ms/step - loss: 1.3867 - accuracy: 0.2375\n",
      "Epoch 2/100\n",
      "10/10 [==============================] - 0s 11ms/step - loss: 1.3856 - accuracy: 0.2562\n",
      "Epoch 3/100\n",
      "10/10 [==============================] - 0s 9ms/step - loss: 1.3833 - accuracy: 0.2562\n",
      "Epoch 4/100\n",
      "10/10 [==============================] - 0s 9ms/step - loss: 1.3734 - accuracy: 0.4125\n",
      "Epoch 5/100\n",
      "10/10 [==============================] - 0s 9ms/step - loss: 1.3287 - accuracy: 0.5531\n",
      "Epoch 6/100\n",
      "10/10 [==============================] - 0s 9ms/step - loss: 1.1878 - accuracy: 0.4594\n",
      "Epoch 7/100\n",
      "10/10 [==============================] - 0s 9ms/step - loss: 1.0037 - accuracy: 0.5781\n",
      "Epoch 8/100\n",
      "10/10 [==============================] - 0s 9ms/step - loss: 0.8543 - accuracy: 0.7250\n",
      "Epoch 9/100\n",
      "10/10 [==============================] - 0s 9ms/step - loss: 0.7575 - accuracy: 0.7437\n",
      "Epoch 10/100\n",
      "10/10 [==============================] - 0s 11ms/step - loss: 0.6651 - accuracy: 0.7500\n",
      "Epoch 11/100\n",
      "10/10 [==============================] - 0s 9ms/step - loss: 0.5888 - accuracy: 0.7563\n",
      "Epoch 12/100\n",
      "10/10 [==============================] - 0s 9ms/step - loss: 0.5529 - accuracy: 0.7563\n",
      "Epoch 13/100\n",
      "10/10 [==============================] - 0s 10ms/step - loss: 0.5086 - accuracy: 0.7656\n",
      "Epoch 14/100\n",
      "10/10 [==============================] - 0s 9ms/step - loss: 0.5023 - accuracy: 0.7688\n",
      "Epoch 15/100\n",
      "10/10 [==============================] - 0s 8ms/step - loss: 0.4957 - accuracy: 0.7625\n",
      "Epoch 16/100\n",
      "10/10 [==============================] - 0s 8ms/step - loss: 0.4661 - accuracy: 0.7781\n",
      "Epoch 17/100\n",
      "10/10 [==============================] - 0s 8ms/step - loss: 0.4783 - accuracy: 0.7656\n",
      "Epoch 18/100\n",
      "10/10 [==============================] - 0s 9ms/step - loss: 0.4730 - accuracy: 0.7625\n",
      "Epoch 19/100\n",
      "10/10 [==============================] - 0s 9ms/step - loss: 0.4540 - accuracy: 0.7719\n",
      "Epoch 20/100\n",
      "10/10 [==============================] - 0s 9ms/step - loss: 0.4711 - accuracy: 0.7719\n",
      "Epoch 21/100\n",
      "10/10 [==============================] - 0s 9ms/step - loss: 0.4779 - accuracy: 0.7656\n"
     ]
    },
    {
     "data": {
      "text/plain": [
       "<keras.callbacks.History at 0x277bc2818d0>"
      ]
     },
     "execution_count": 30,
     "metadata": {},
     "output_type": "execute_result"
    }
   ],
   "source": [
    "my_model1.fit(X_train , y_train, epochs = 100, callbacks = [early_stopping])"
   ]
  },
  {
   "cell_type": "code",
   "execution_count": 15,
   "id": "a4a88a4f",
   "metadata": {},
   "outputs": [],
   "source": [
    "from tensorflow.keras.models import load_model\n",
    "\n",
    "# Load the model from a file\n",
    "model1 = load_model('E:/DATA_SET/model.h5')\n",
    "model2 = load_model('E:/DATA_SET/my_model.h5')\n"
   ]
  },
  {
   "cell_type": "code",
   "execution_count": 72,
   "id": "172917db",
   "metadata": {},
   "outputs": [
    {
     "name": "stdout",
     "output_type": "stream",
     "text": [
      "Model: \"model_1\"\n",
      "_________________________________________________________________\n",
      " Layer (type)                Output Shape              Param #   \n",
      "=================================================================\n",
      " input_4 (InputLayer)        [(None, 3, 1)]            0         \n",
      "                                                                 \n",
      " sequential_5 (Sequential)   (None, 1, 1)              74625     \n",
      "                                                                 \n",
      " dense_24 (Dense)            (None, 1, 4)              8         \n",
      "                                                                 \n",
      "=================================================================\n",
      "Total params: 74,633\n",
      "Trainable params: 74,633\n",
      "Non-trainable params: 0\n",
      "_________________________________________________________________\n"
     ]
    }
   ],
   "source": [
    "from tensorflow.keras.models import Model\n",
    "from tensorflow.keras.layers import Input, Dense\n",
    "\n",
    "# Step 1: Create a new model\n",
    "combined_model_input = Input(shape=(3, 1))\n",
    "\n",
    "# Step 2: Remove the last layer of both model and my_model\n",
    "model1.layers.pop()\n",
    "model2.layers.pop()\n",
    "\n",
    "# Step 3: Add the modified model as a part of the combined_model\n",
    "combined_model_output_1 = model1(combined_model_input)\n",
    "\n",
    "# Step 4: Add the modified my_model as a part of the combined_model\n",
    "combined_model_output_2 = model2(combined_model_input)\n",
    "\n",
    "# Step 5: Add a new Dense layer for multiclass classification\n",
    "combined_model_output = Dense(units=4, activation='softmax')(combined_model_output_2)\n",
    "\n",
    "# Create the combined_model\n",
    "combined_model = Model(inputs=combined_model_input, outputs=combined_model_output)\n",
    "\n",
    "combined_model.compile(loss='categorical_crossentropy', optimizer='adam', metrics=['accuracy'])\n",
    "\n",
    "combined_model.summary()\n"
   ]
  },
  {
   "cell_type": "code",
   "execution_count": 76,
   "id": "f2ac5f39",
   "metadata": {},
   "outputs": [
    {
     "name": "stdout",
     "output_type": "stream",
     "text": [
      "Epoch 1/1000\n",
      "10/10 [==============================] - 0s 6ms/step - loss: 0.8314 - accuracy: 0.5437\n",
      "Epoch 2/1000\n",
      "10/10 [==============================] - 0s 6ms/step - loss: 0.8281 - accuracy: 0.5531\n",
      "Epoch 3/1000\n",
      "10/10 [==============================] - 0s 6ms/step - loss: 0.8312 - accuracy: 0.5281\n",
      "Epoch 4/1000\n",
      "10/10 [==============================] - 0s 6ms/step - loss: 0.8305 - accuracy: 0.5406\n",
      "Epoch 5/1000\n",
      "10/10 [==============================] - 0s 7ms/step - loss: 0.8291 - accuracy: 0.5406\n",
      "Epoch 6/1000\n",
      "10/10 [==============================] - 0s 7ms/step - loss: 0.8298 - accuracy: 0.5344\n",
      "Epoch 7/1000\n",
      "10/10 [==============================] - 0s 6ms/step - loss: 0.8288 - accuracy: 0.5437\n"
     ]
    },
    {
     "data": {
      "text/plain": [
       "<keras.callbacks.History at 0x2dc7b38ab60>"
      ]
     },
     "execution_count": 76,
     "metadata": {},
     "output_type": "execute_result"
    }
   ],
   "source": [
    "combined_model.fit(X_train, y_train, epochs = 100, callbacks = [early_stopping])"
   ]
  },
  {
   "cell_type": "code",
   "execution_count": 31,
   "id": "1823157d",
   "metadata": {},
   "outputs": [
    {
     "name": "stdout",
     "output_type": "stream",
     "text": [
      "Model: \"model_1\"\n",
      "_________________________________________________________________\n",
      " Layer (type)                Output Shape              Param #   \n",
      "=================================================================\n",
      " conv1d_3_input (InputLayer)  [(None, 3, 1)]           0         \n",
      "                                                                 \n",
      " conv1d_3 (Conv1D)           (None, 1, 32)             128       \n",
      "                                                                 \n",
      " lstm_6 (LSTM)               (None, 1, 64)             24832     \n",
      "                                                                 \n",
      " dropout_6 (Dropout)         (None, 1, 64)             0         \n",
      "                                                                 \n",
      " lstm_7 (LSTM)               (None, 1, 64)             33024     \n",
      "                                                                 \n",
      " dropout_7 (Dropout)         (None, 1, 64)             0         \n",
      "                                                                 \n",
      " dense_9 (Dense)             (None, 1, 128)            8320      \n",
      "                                                                 \n",
      " dense_10 (Dense)            (None, 1, 64)             8256      \n",
      "                                                                 \n",
      " dense_14 (Dense)            (None, 1, 3)              195       \n",
      "                                                                 \n",
      " reshape_1 (Reshape)         (None, 3, 1)              0         \n",
      "                                                                 \n",
      " sequential_5 (Sequential)   (None, 1, 1)              74625     \n",
      "                                                                 \n",
      " dense_15 (Dense)            (None, 1, 4)              8         \n",
      "                                                                 \n",
      "=================================================================\n",
      "Total params: 149,388\n",
      "Trainable params: 149,388\n",
      "Non-trainable params: 0\n",
      "_________________________________________________________________\n"
     ]
    }
   ],
   "source": [
    "from tensorflow.keras.models import Model\n",
    "from tensorflow.keras.layers import Input, Dense, Reshape\n",
    "\n",
    "# Step 1: Create a new model\n",
    "combined_model_input = model1.input\n",
    "\n",
    "# Step 2: Remove the last layer of model1\n",
    "model1_output = model1.layers[-2].output  # Exclude the last layer (Dense layer)\n",
    "\n",
    "# Step 3: Add a Dense layer with three units\n",
    "dense_output = Dense(units=3, activation = \"relu\")(model1_output)\n",
    "\n",
    "# Step 4: Reshape the output to (3, 1)\n",
    "reshaped_output = Reshape((3, 1))(dense_output)\n",
    "\n",
    "# Step 5: Pass the reshaped output to model2\n",
    "combined_model_output = model2(reshaped_output)\n",
    "\n",
    "# Step 6: Modify the last layer for multiclass classification\n",
    "combined_model_output = Dense(units=4, activation='softmax')(combined_model_output)\n",
    "\n",
    "# Create the combined_model\n",
    "combined_model = Model(inputs=combined_model_input, outputs=combined_model_output)\n",
    "\n",
    "combined_model.compile(loss='categorical_crossentropy', optimizer='adam', metrics=['accuracy'])\n",
    "\n",
    "combined_model.summary()\n"
   ]
  },
  {
   "cell_type": "code",
   "execution_count": 32,
   "id": "a86a3c81",
   "metadata": {},
   "outputs": [
    {
     "name": "stdout",
     "output_type": "stream",
     "text": [
      "Epoch 1/100\n",
      "10/10 [==============================] - 10s 10ms/step - loss: 1.2695 - accuracy: 0.2969\n",
      "Epoch 2/100\n",
      "10/10 [==============================] - 0s 10ms/step - loss: 1.2555 - accuracy: 0.4750\n",
      "Epoch 3/100\n",
      "10/10 [==============================] - 0s 9ms/step - loss: 1.2511 - accuracy: 0.4969\n",
      "Epoch 4/100\n",
      "10/10 [==============================] - 0s 9ms/step - loss: 1.2498 - accuracy: 0.5031\n",
      "Epoch 5/100\n",
      "10/10 [==============================] - 0s 9ms/step - loss: 1.2407 - accuracy: 0.5063\n",
      "Epoch 6/100\n",
      "10/10 [==============================] - 0s 9ms/step - loss: 1.2407 - accuracy: 0.4969\n",
      "Epoch 7/100\n",
      "10/10 [==============================] - 0s 9ms/step - loss: 1.2330 - accuracy: 0.5000\n",
      "Epoch 8/100\n",
      "10/10 [==============================] - 0s 9ms/step - loss: 1.2329 - accuracy: 0.5063\n",
      "Epoch 9/100\n",
      "10/10 [==============================] - 0s 10ms/step - loss: 1.2337 - accuracy: 0.4938\n",
      "Epoch 10/100\n",
      "10/10 [==============================] - 0s 10ms/step - loss: 1.2314 - accuracy: 0.4906\n",
      "Epoch 11/100\n",
      "10/10 [==============================] - 0s 9ms/step - loss: 1.2259 - accuracy: 0.4938\n",
      "Epoch 12/100\n",
      "10/10 [==============================] - 0s 10ms/step - loss: 1.2188 - accuracy: 0.5031\n",
      "Epoch 13/100\n",
      "10/10 [==============================] - 0s 9ms/step - loss: 1.2163 - accuracy: 0.5031\n",
      "Epoch 14/100\n",
      "10/10 [==============================] - 0s 9ms/step - loss: 1.2199 - accuracy: 0.4938\n",
      "Epoch 15/100\n",
      "10/10 [==============================] - 0s 10ms/step - loss: 1.2132 - accuracy: 0.4969\n",
      "Epoch 16/100\n",
      "10/10 [==============================] - 0s 9ms/step - loss: 1.2037 - accuracy: 0.5063\n",
      "Epoch 17/100\n",
      "10/10 [==============================] - 0s 10ms/step - loss: 1.2058 - accuracy: 0.5094\n",
      "Epoch 18/100\n",
      "10/10 [==============================] - 0s 9ms/step - loss: 1.2032 - accuracy: 0.5000\n",
      "Epoch 19/100\n",
      "10/10 [==============================] - 0s 9ms/step - loss: 1.2030 - accuracy: 0.4969\n",
      "Epoch 20/100\n",
      "10/10 [==============================] - 0s 9ms/step - loss: 1.2039 - accuracy: 0.4938\n",
      "Epoch 21/100\n",
      "10/10 [==============================] - 0s 9ms/step - loss: 1.2040 - accuracy: 0.4906\n",
      "Epoch 22/100\n",
      "10/10 [==============================] - 0s 11ms/step - loss: 1.1927 - accuracy: 0.5031\n",
      "Epoch 23/100\n",
      "10/10 [==============================] - 0s 11ms/step - loss: 1.1907 - accuracy: 0.5000\n",
      "Epoch 24/100\n",
      "10/10 [==============================] - 0s 11ms/step - loss: 1.1880 - accuracy: 0.5000\n",
      "Epoch 25/100\n",
      "10/10 [==============================] - 0s 11ms/step - loss: 1.1839 - accuracy: 0.5063\n",
      "Epoch 26/100\n",
      "10/10 [==============================] - 0s 11ms/step - loss: 1.1834 - accuracy: 0.5000\n",
      "Epoch 27/100\n",
      "10/10 [==============================] - 0s 11ms/step - loss: 1.1891 - accuracy: 0.4906\n",
      "Epoch 28/100\n",
      "10/10 [==============================] - 0s 11ms/step - loss: 1.1792 - accuracy: 0.5000\n",
      "Epoch 29/100\n",
      "10/10 [==============================] - 0s 11ms/step - loss: 1.1737 - accuracy: 0.5031\n",
      "Epoch 30/100\n",
      "10/10 [==============================] - 0s 11ms/step - loss: 1.1750 - accuracy: 0.5031\n",
      "Epoch 31/100\n",
      "10/10 [==============================] - 0s 12ms/step - loss: 1.1746 - accuracy: 0.4969\n",
      "Epoch 32/100\n",
      "10/10 [==============================] - 0s 10ms/step - loss: 1.1695 - accuracy: 0.5000\n",
      "Epoch 33/100\n",
      "10/10 [==============================] - 0s 9ms/step - loss: 1.1623 - accuracy: 0.5063\n",
      "Epoch 34/100\n",
      "10/10 [==============================] - 0s 10ms/step - loss: 1.1797 - accuracy: 0.5094\n",
      "Epoch 35/100\n",
      "10/10 [==============================] - 0s 11ms/step - loss: 1.1598 - accuracy: 0.5031\n",
      "Epoch 36/100\n",
      "10/10 [==============================] - 0s 10ms/step - loss: 1.1636 - accuracy: 0.4969\n",
      "Epoch 37/100\n",
      "10/10 [==============================] - 0s 13ms/step - loss: 1.1676 - accuracy: 0.4906\n",
      "Epoch 38/100\n",
      "10/10 [==============================] - 0s 10ms/step - loss: 1.1624 - accuracy: 0.4938\n",
      "Epoch 39/100\n",
      "10/10 [==============================] - 0s 10ms/step - loss: 1.1574 - accuracy: 0.4969\n",
      "Epoch 40/100\n",
      "10/10 [==============================] - 0s 9ms/step - loss: 1.1554 - accuracy: 0.4969\n",
      "Epoch 41/100\n",
      "10/10 [==============================] - 0s 9ms/step - loss: 1.1502 - accuracy: 0.5000\n",
      "Epoch 42/100\n",
      "10/10 [==============================] - 0s 9ms/step - loss: 1.1629 - accuracy: 0.4938\n",
      "Epoch 43/100\n",
      "10/10 [==============================] - 0s 9ms/step - loss: 1.2130 - accuracy: 0.4469\n",
      "Epoch 44/100\n",
      "10/10 [==============================] - 0s 9ms/step - loss: 1.1391 - accuracy: 0.5094\n",
      "Epoch 45/100\n",
      "10/10 [==============================] - 0s 10ms/step - loss: 1.1488 - accuracy: 0.4938\n",
      "Epoch 46/100\n",
      "10/10 [==============================] - 0s 10ms/step - loss: 1.1373 - accuracy: 0.5031\n",
      "Epoch 47/100\n",
      "10/10 [==============================] - 0s 9ms/step - loss: 1.1777 - accuracy: 0.4781\n",
      "Epoch 48/100\n",
      "10/10 [==============================] - 0s 10ms/step - loss: 1.1868 - accuracy: 0.4531\n",
      "Epoch 49/100\n",
      "10/10 [==============================] - 0s 9ms/step - loss: 1.2780 - accuracy: 0.3688\n",
      "Epoch 50/100\n",
      "10/10 [==============================] - 0s 9ms/step - loss: 1.2943 - accuracy: 0.3531\n",
      "Epoch 51/100\n",
      "10/10 [==============================] - 0s 10ms/step - loss: 1.2871 - accuracy: 0.3594\n",
      "Epoch 52/100\n",
      "10/10 [==============================] - 0s 10ms/step - loss: 1.2865 - accuracy: 0.3594\n",
      "Epoch 53/100\n",
      "10/10 [==============================] - 0s 10ms/step - loss: 1.2791 - accuracy: 0.3656\n",
      "Epoch 54/100\n",
      "10/10 [==============================] - 0s 9ms/step - loss: 1.1837 - accuracy: 0.4531\n",
      "Epoch 55/100\n",
      "10/10 [==============================] - 0s 10ms/step - loss: 1.1546 - accuracy: 0.4812\n",
      "Epoch 56/100\n",
      "10/10 [==============================] - 0s 12ms/step - loss: 1.1457 - accuracy: 0.4844\n",
      "Epoch 57/100\n",
      "10/10 [==============================] - 0s 12ms/step - loss: 1.1998 - accuracy: 0.4344\n",
      "Epoch 58/100\n",
      "10/10 [==============================] - 0s 11ms/step - loss: 1.1290 - accuracy: 0.4969\n",
      "Epoch 59/100\n",
      "10/10 [==============================] - 0s 11ms/step - loss: 1.1176 - accuracy: 0.5094\n",
      "Epoch 60/100\n",
      "10/10 [==============================] - 0s 11ms/step - loss: 1.1121 - accuracy: 0.5125\n",
      "Epoch 61/100\n",
      "10/10 [==============================] - 0s 11ms/step - loss: 1.1365 - accuracy: 0.4906\n",
      "Epoch 62/100\n",
      "10/10 [==============================] - 0s 11ms/step - loss: 1.1796 - accuracy: 0.4469\n",
      "Epoch 63/100\n",
      "10/10 [==============================] - 0s 12ms/step - loss: 1.1924 - accuracy: 0.4344\n",
      "Epoch 64/100\n",
      "10/10 [==============================] - 0s 12ms/step - loss: 1.1444 - accuracy: 0.4750\n",
      "Epoch 65/100\n",
      "10/10 [==============================] - 0s 13ms/step - loss: 1.1062 - accuracy: 0.5063\n",
      "Epoch 66/100\n",
      "10/10 [==============================] - 0s 12ms/step - loss: 1.1032 - accuracy: 0.5063\n",
      "Epoch 67/100\n",
      "10/10 [==============================] - 0s 12ms/step - loss: 1.1086 - accuracy: 0.5094\n",
      "Epoch 68/100\n",
      "10/10 [==============================] - 0s 11ms/step - loss: 1.1533 - accuracy: 0.4625\n",
      "Epoch 69/100\n",
      "10/10 [==============================] - 0s 10ms/step - loss: 1.1709 - accuracy: 0.4469\n",
      "Epoch 70/100\n",
      "10/10 [==============================] - 0s 11ms/step - loss: 1.1167 - accuracy: 0.4906\n",
      "Epoch 71/100\n",
      "10/10 [==============================] - 0s 12ms/step - loss: 1.1112 - accuracy: 0.4938\n",
      "Epoch 72/100\n",
      "10/10 [==============================] - 0s 10ms/step - loss: 1.1097 - accuracy: 0.4938\n",
      "Epoch 73/100\n",
      "10/10 [==============================] - 0s 11ms/step - loss: 1.1080 - accuracy: 0.4938\n",
      "Epoch 74/100\n",
      "10/10 [==============================] - 0s 11ms/step - loss: 1.1026 - accuracy: 0.4969\n",
      "Epoch 75/100\n",
      "10/10 [==============================] - 0s 11ms/step - loss: 1.1009 - accuracy: 0.4969\n",
      "Epoch 76/100\n",
      "10/10 [==============================] - 0s 10ms/step - loss: 1.0953 - accuracy: 0.5000\n",
      "Epoch 77/100\n",
      "10/10 [==============================] - 0s 11ms/step - loss: 1.0936 - accuracy: 0.5000\n",
      "Epoch 78/100\n",
      "10/10 [==============================] - 0s 12ms/step - loss: 1.0960 - accuracy: 0.4969\n",
      "Epoch 79/100\n",
      "10/10 [==============================] - 0s 11ms/step - loss: 1.0903 - accuracy: 0.5000\n",
      "Epoch 80/100\n",
      "10/10 [==============================] - 0s 11ms/step - loss: 1.0887 - accuracy: 0.5000\n",
      "Epoch 81/100\n",
      "10/10 [==============================] - 0s 11ms/step - loss: 1.0871 - accuracy: 0.5000\n",
      "Epoch 82/100\n",
      "10/10 [==============================] - 0s 11ms/step - loss: 1.0855 - accuracy: 0.5000\n",
      "Epoch 83/100\n",
      "10/10 [==============================] - 0s 11ms/step - loss: 1.0851 - accuracy: 0.5063\n",
      "Epoch 84/100\n",
      "10/10 [==============================] - 0s 11ms/step - loss: 1.0906 - accuracy: 0.5125\n",
      "Epoch 85/100\n",
      "10/10 [==============================] - 0s 12ms/step - loss: 1.0707 - accuracy: 0.5094\n",
      "Epoch 86/100\n",
      "10/10 [==============================] - 0s 11ms/step - loss: 1.1028 - accuracy: 0.4844\n",
      "Epoch 87/100\n",
      "10/10 [==============================] - 0s 12ms/step - loss: 1.0778 - accuracy: 0.5000\n",
      "Epoch 88/100\n",
      "10/10 [==============================] - 0s 12ms/step - loss: 1.0762 - accuracy: 0.5000\n",
      "Epoch 89/100\n",
      "10/10 [==============================] - 0s 11ms/step - loss: 1.0662 - accuracy: 0.5063\n",
      "Epoch 90/100\n",
      "10/10 [==============================] - 0s 10ms/step - loss: 1.0647 - accuracy: 0.5094\n",
      "Epoch 91/100\n",
      "10/10 [==============================] - 0s 10ms/step - loss: 1.3271 - accuracy: 0.3000\n",
      "Epoch 92/100\n",
      "10/10 [==============================] - 0s 10ms/step - loss: 1.3670 - accuracy: 0.2781\n",
      "Epoch 93/100\n",
      "10/10 [==============================] - 0s 10ms/step - loss: 1.0750 - accuracy: 0.4969\n",
      "Epoch 94/100\n",
      "10/10 [==============================] - 0s 11ms/step - loss: 1.0936 - accuracy: 0.4844\n",
      "Epoch 95/100\n",
      "10/10 [==============================] - 0s 10ms/step - loss: 1.0991 - accuracy: 0.4812\n",
      "Epoch 96/100\n",
      "10/10 [==============================] - 0s 10ms/step - loss: 1.0608 - accuracy: 0.5063\n",
      "Epoch 97/100\n",
      "10/10 [==============================] - 0s 10ms/step - loss: 1.0754 - accuracy: 0.5063\n",
      "Epoch 98/100\n",
      "10/10 [==============================] - 0s 10ms/step - loss: 1.0659 - accuracy: 0.5063\n",
      "Epoch 99/100\n",
      "10/10 [==============================] - 0s 11ms/step - loss: 1.0598 - accuracy: 0.5063\n",
      "Epoch 100/100\n",
      "10/10 [==============================] - 0s 10ms/step - loss: 1.0586 - accuracy: 0.5094\n"
     ]
    },
    {
     "data": {
      "text/plain": [
       "<keras.callbacks.History at 0x277af40ebf0>"
      ]
     },
     "execution_count": 32,
     "metadata": {},
     "output_type": "execute_result"
    }
   ],
   "source": [
    "combined_model.fit(X_train, y_train, epochs = 100)"
   ]
  },
  {
   "cell_type": "code",
   "execution_count": null,
   "id": "883ca3e3",
   "metadata": {},
   "outputs": [],
   "source": []
  }
 ],
 "metadata": {
  "kernelspec": {
   "display_name": "Python 3 (ipykernel)",
   "language": "python",
   "name": "python3"
  },
  "language_info": {
   "codemirror_mode": {
    "name": "ipython",
    "version": 3
   },
   "file_extension": ".py",
   "mimetype": "text/x-python",
   "name": "python",
   "nbconvert_exporter": "python",
   "pygments_lexer": "ipython3",
   "version": "3.10.11"
  }
 },
 "nbformat": 4,
 "nbformat_minor": 5
}
